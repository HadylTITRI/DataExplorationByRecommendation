{
 "cells": [
  {
   "cell_type": "code",
   "execution_count": 60,
   "metadata": {},
   "outputs": [],
   "source": [
    "# Chargement des bibliothèques nécessaires\n",
    "import pickle\n",
    "import numpy as np\n",
    "import pandas as pd\n",
    "from sklearn.model_selection import train_test_split\n",
    "from sklearn.metrics import accuracy_score, f1_score\n",
    "from keras.models import Sequential\n",
    "from keras.layers import LSTM, Bidirectional, Dense, Dropout\n",
    "\n",
    "\n",
    "# Chargement des données et des modèles\n",
    "with open(\"data.pkl\", \"rb\") as f:\n",
    "    questions_matrix, data, best_num_clusters, tfidf_vectorizer, tfidf_vectorizer1 = pickle.load(f)\n",
    "    \n",
    "with open(\"model.pkl\", \"rb\") as f1:\n",
    "    model, history = pickle.load(f1)\n"
   ]
  },
  {
   "cell_type": "code",
   "execution_count": 61,
   "metadata": {},
   "outputs": [],
   "source": [
    "tfidf_matrix = tfidf_vectorizer1.fit_transform(data['body_x'])\n",
    "tfidf_matrix = tfidf_matrix.toarray()\n",
    "\n",
    "labels = data['cluster']\n",
    "\n",
    "X_train, X_test, y_train, y_test = train_test_split(tfidf_matrix, labels, test_size=0.2, random_state=42)\n",
    "\n",
    "X_train = X_train.reshape(X_train.shape[0],1, X_train.shape[1])\n",
    "X_test = X_test.reshape(X_test.shape[0],1, X_test.shape[1])\n"
   ]
  },
  {
   "cell_type": "code",
   "execution_count": 62,
   "metadata": {},
   "outputs": [
    {
     "name": "stderr",
     "output_type": "stream",
     "text": [
      "c:\\Users\\ASUS\\AppData\\Local\\Programs\\Python\\Python312\\Lib\\site-packages\\keras\\src\\layers\\rnn\\rnn.py:204: UserWarning: Do not pass an `input_shape`/`input_dim` argument to a layer. When using Sequential models, prefer using an `Input(shape)` object as the first layer in the model instead.\n",
      "  super().__init__(**kwargs)\n"
     ]
    }
   ],
   "source": [
    "lstm = Sequential()\n",
    "lstm.add(LSTM(units=128, input_shape=(1, X_train.shape[2])))\n",
    "lstm.add(Dropout(0.5))\n",
    "lstm.add(Dense(units=best_num_clusters, activation='softmax'))\n",
    "\n",
    "lstm.compile(optimizer='adam', loss='sparse_categorical_crossentropy', metrics=['accuracy'])"
   ]
  },
  {
   "cell_type": "code",
   "execution_count": 63,
   "metadata": {},
   "outputs": [
    {
     "name": "stdout",
     "output_type": "stream",
     "text": [
      "Epoch 1/8\n",
      "\u001b[1m1016/1016\u001b[0m \u001b[32m━━━━━━━━━━━━━━━━━━━━\u001b[0m\u001b[37m\u001b[0m \u001b[1m127s\u001b[0m 116ms/step - accuracy: 0.6319 - loss: 1.1393\n",
      "Epoch 2/8\n",
      "\u001b[1m1016/1016\u001b[0m \u001b[32m━━━━━━━━━━━━━━━━━━━━\u001b[0m\u001b[37m\u001b[0m \u001b[1m149s\u001b[0m 123ms/step - accuracy: 0.9740 - loss: 0.1044\n",
      "Epoch 3/8\n",
      "\u001b[1m1016/1016\u001b[0m \u001b[32m━━━━━━━━━━━━━━━━━━━━\u001b[0m\u001b[37m\u001b[0m \u001b[1m136s\u001b[0m 116ms/step - accuracy: 0.9926 - loss: 0.0378\n",
      "Epoch 4/8\n",
      "\u001b[1m1016/1016\u001b[0m \u001b[32m━━━━━━━━━━━━━━━━━━━━\u001b[0m\u001b[37m\u001b[0m \u001b[1m1569s\u001b[0m 2s/step - accuracy: 0.9970 - loss: 0.0188\n",
      "Epoch 5/8\n",
      "\u001b[1m1016/1016\u001b[0m \u001b[32m━━━━━━━━━━━━━━━━━━━━\u001b[0m\u001b[37m\u001b[0m \u001b[1m129s\u001b[0m 126ms/step - accuracy: 0.9984 - loss: 0.0100\n",
      "Epoch 6/8\n",
      "\u001b[1m1016/1016\u001b[0m \u001b[32m━━━━━━━━━━━━━━━━━━━━\u001b[0m\u001b[37m\u001b[0m \u001b[1m147s\u001b[0m 144ms/step - accuracy: 0.9998 - loss: 0.0048\n",
      "Epoch 7/8\n",
      "\u001b[1m1016/1016\u001b[0m \u001b[32m━━━━━━━━━━━━━━━━━━━━\u001b[0m\u001b[37m\u001b[0m \u001b[1m140s\u001b[0m 138ms/step - accuracy: 0.9998 - loss: 0.0031\n",
      "Epoch 8/8\n",
      "\u001b[1m1016/1016\u001b[0m \u001b[32m━━━━━━━━━━━━━━━━━━━━\u001b[0m\u001b[37m\u001b[0m \u001b[1m141s\u001b[0m 138ms/step - accuracy: 0.9999 - loss: 0.0018\n"
     ]
    },
    {
     "data": {
      "text/plain": [
       "<keras.src.callbacks.history.History at 0x1a47bb79c40>"
      ]
     },
     "execution_count": 63,
     "metadata": {},
     "output_type": "execute_result"
    }
   ],
   "source": [
    "lstm.fit(X_train, y_train, epochs=5, batch_size=32)"
   ]
  },
  {
   "cell_type": "code",
   "execution_count": 64,
   "metadata": {},
   "outputs": [
    {
     "name": "stdout",
     "output_type": "stream",
     "text": [
      "\u001b[1m254/254\u001b[0m \u001b[32m━━━━━━━━━━━━━━━━━━━━\u001b[0m\u001b[37m\u001b[0m \u001b[1m4s\u001b[0m 13ms/step - accuracy: 0.9768 - loss: 0.0911\n",
      "Perte sur l'ensemble de test: 0.0872756689786911\n",
      "Précision sur l'ensemble de test: 0.9763692021369934\n"
     ]
    }
   ],
   "source": [
    "loss, accuracy = lstm.evaluate(X_test, y_test)\n",
    "print(\"Perte sur l'ensemble de test:\", loss)\n",
    "print(\"Précision sur l'ensemble de test:\", accuracy)"
   ]
  },
  {
   "cell_type": "code",
   "execution_count": 65,
   "metadata": {},
   "outputs": [
    {
     "name": "stdout",
     "output_type": "stream",
     "text": [
      "\u001b[1m254/254\u001b[0m \u001b[32m━━━━━━━━━━━━━━━━━━━━\u001b[0m\u001b[37m\u001b[0m \u001b[1m6s\u001b[0m 19ms/step\n",
      "Accuracy sur l'ensemble de test: 0.9763692307692308\n",
      "F-score sur l'ensemble de test: 0.9763640445512691\n"
     ]
    }
   ],
   "source": [
    "# Prédire les étiquettes sur l'ensemble de test\n",
    "predictions = lstm.predict(X_test)\n",
    "predicted_labels = np.argmax(predictions, axis=1)\n",
    "\n",
    "# Calculer l'accuracy\n",
    "accuracy = accuracy_score(y_test, predicted_labels)\n",
    "\n",
    "# Calculer le F-score\n",
    "f1 = f1_score(y_test, predicted_labels, average='weighted')\n",
    "\n",
    "print(\"Accuracy sur l'ensemble de test:\", accuracy)\n",
    "print(\"F-score sur l'ensemble de test:\", f1)"
   ]
  },
  {
   "cell_type": "markdown",
   "metadata": {},
   "source": [
    "### BLSTM"
   ]
  },
  {
   "cell_type": "code",
   "execution_count": 66,
   "metadata": {},
   "outputs": [
    {
     "name": "stderr",
     "output_type": "stream",
     "text": [
      "c:\\Users\\ASUS\\AppData\\Local\\Programs\\Python\\Python312\\Lib\\site-packages\\keras\\src\\layers\\rnn\\rnn.py:204: UserWarning: Do not pass an `input_shape`/`input_dim` argument to a layer. When using Sequential models, prefer using an `Input(shape)` object as the first layer in the model instead.\n",
      "  super().__init__(**kwargs)\n"
     ]
    }
   ],
   "source": [
    "blstm = Sequential()\n",
    "blstm.add(Bidirectional(LSTM(units=128, input_shape=(1, X_train.shape[2]))))\n",
    "blstm.add(Dropout(0.5))\n",
    "blstm.add(Dense(units=best_num_clusters, activation='softmax'))\n",
    "\n",
    "blstm.compile(optimizer='adam', loss='sparse_categorical_crossentropy', metrics=['accuracy'])"
   ]
  },
  {
   "cell_type": "code",
   "execution_count": 67,
   "metadata": {},
   "outputs": [
    {
     "name": "stdout",
     "output_type": "stream",
     "text": [
      "Epoch 1/8\n",
      "\u001b[1m1016/1016\u001b[0m \u001b[32m━━━━━━━━━━━━━━━━━━━━\u001b[0m\u001b[37m\u001b[0m \u001b[1m10888s\u001b[0m 11s/step - accuracy: 0.6718 - loss: 1.0052\n",
      "Epoch 2/8\n",
      "\u001b[1m1016/1016\u001b[0m \u001b[32m━━━━━━━━━━━━━━━━━━━━\u001b[0m\u001b[37m\u001b[0m \u001b[1m279s\u001b[0m 216ms/step - accuracy: 0.9838 - loss: 0.0695\n",
      "Epoch 3/8\n"
     ]
    }
   ],
   "source": [
    "blstm.fit(X_train, y_train, epochs=8, batch_size=32)"
   ]
  },
  {
   "cell_type": "code",
   "execution_count": null,
   "metadata": {},
   "outputs": [],
   "source": [
    "loss, accuracy = blstm.evaluate(X_test, y_test)\n",
    "print(\"Perte sur l'ensemble de test:\", loss)\n",
    "\n",
    "# Prédire les étiquettes sur l'ensemble de test\n",
    "predictions = blstm.predict(X_test)\n",
    "predicted_labels = np.argmax(predictions, axis=1)\n",
    "\n",
    "# Calculer l'accuracy\n",
    "accuracy = accuracy_score(y_test, predicted_labels)\n",
    "\n",
    "# Calculer le F-score\n",
    "f1 = f1_score(y_test, predicted_labels, average='weighted')\n",
    "\n",
    "print(\"Accuracy sur l'ensemble de test:\", accuracy)\n",
    "print(\"F-score sur l'ensemble de test:\", f1)"
   ]
  },
  {
   "cell_type": "markdown",
   "metadata": {},
   "source": [
    "### Evaluation du modèle MLP "
   ]
  },
  {
   "cell_type": "code",
   "execution_count": null,
   "metadata": {},
   "outputs": [],
   "source": [
    "loss, accuracy = model.evaluate(X_test, y_test)\n",
    "print(\"Perte sur l'ensemble de test:\", loss)\n",
    "\n",
    "# Prédire les étiquettes sur l'ensemble de test\n",
    "predictions = model.predict(X_test)\n",
    "predicted_labels = np.argmax(predictions, axis=1)\n",
    "\n",
    "# Calculer l'accuracy\n",
    "accuracy = accuracy_score(y_test, predicted_labels)\n",
    "\n",
    "# Calculer le F-score\n",
    "f1 = f1_score(y_test, predicted_labels, average='weighted')\n",
    "\n",
    "print(\"Accuracy sur l'ensemble de test:\", accuracy)\n",
    "print(\"F-score sur l'ensemble de test:\", f1)"
   ]
  }
 ],
 "metadata": {
  "kernelspec": {
   "display_name": "Python 3",
   "language": "python",
   "name": "python3"
  },
  "language_info": {
   "codemirror_mode": {
    "name": "ipython",
    "version": 3
   },
   "file_extension": ".py",
   "mimetype": "text/x-python",
   "name": "python",
   "nbconvert_exporter": "python",
   "pygments_lexer": "ipython3",
   "version": "3.12.2"
  }
 },
 "nbformat": 4,
 "nbformat_minor": 2
}
