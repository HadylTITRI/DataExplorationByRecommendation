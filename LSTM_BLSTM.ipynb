{
 "cells": [
  {
   "cell_type": "code",
   "execution_count": 1,
   "metadata": {},
   "outputs": [],
   "source": [
    "# Chargement des bibliothèques nécessaires\n",
    "import pickle\n",
    "import numpy as np\n",
    "import pandas as pd\n",
    "from sklearn.model_selection import train_test_split\n",
    "from sklearn.metrics import accuracy_score, f1_score\n",
    "from keras.models import Sequential\n",
    "from keras.layers import LSTM, Bidirectional, Dense, Dropout\n",
    "\n",
    "\n",
    "# Chargement des données et des modèles\n",
    "with open(\"data.pkl\", \"rb\") as f:\n",
    "    questions_matrix, data, best_num_clusters, tfidf_vectorizer, tfidf_vectorizer1 = pickle.load(f)\n",
    "    \n",
    "with open(\"model.pkl\", \"rb\") as f1:\n",
    "    model, history = pickle.load(f1)\n"
   ]
  },
  {
   "cell_type": "code",
   "execution_count": 2,
   "metadata": {},
   "outputs": [],
   "source": [
    "tfidf_matrix = tfidf_vectorizer1.fit_transform(data['title_x'])\n",
    "tfidf_matrix = tfidf_matrix.toarray()\n",
    "\n",
    "labels = data['cluster']\n",
    "\n",
    "X_train, X_test, y_train, y_test = train_test_split(tfidf_matrix, labels, test_size=0.2, random_state=42)\n",
    "\n",
    "X_train = X_train.reshape(X_train.shape[0],1, X_train.shape[1])\n",
    "X_test = X_test.reshape(X_test.shape[0],1, X_test.shape[1])\n"
   ]
  },
  {
   "cell_type": "code",
   "execution_count": 3,
   "metadata": {},
   "outputs": [
    {
     "name": "stderr",
     "output_type": "stream",
     "text": [
      "c:\\Users\\ASUS\\AppData\\Local\\Programs\\Python\\Python312\\Lib\\site-packages\\keras\\src\\layers\\rnn\\rnn.py:204: UserWarning: Do not pass an `input_shape`/`input_dim` argument to a layer. When using Sequential models, prefer using an `Input(shape)` object as the first layer in the model instead.\n",
      "  super().__init__(**kwargs)\n"
     ]
    }
   ],
   "source": [
    "lstm = Sequential()\n",
    "lstm.add(LSTM(units=128, input_shape=(1, X_train.shape[2])))\n",
    "lstm.add(Dropout(0.5))\n",
    "lstm.add(Dense(units=best_num_clusters, activation='softmax'))\n",
    "\n",
    "lstm.compile(optimizer='adam', loss='sparse_categorical_crossentropy', metrics=['accuracy'])"
   ]
  },
  {
   "cell_type": "code",
   "execution_count": 4,
   "metadata": {},
   "outputs": [
    {
     "name": "stdout",
     "output_type": "stream",
     "text": [
      "Epoch 1/3\n",
      "\u001b[1m744/744\u001b[0m \u001b[32m━━━━━━━━━━━━━━━━━━━━\u001b[0m\u001b[37m\u001b[0m \u001b[1m115s\u001b[0m 144ms/step - accuracy: 0.6199 - loss: 1.2189\n",
      "Epoch 2/3\n",
      "\u001b[1m744/744\u001b[0m \u001b[32m━━━━━━━━━━━━━━━━━━━━\u001b[0m\u001b[37m\u001b[0m \u001b[1m131s\u001b[0m 176ms/step - accuracy: 0.9811 - loss: 0.1006\n",
      "Epoch 3/3\n",
      "\u001b[1m744/744\u001b[0m \u001b[32m━━━━━━━━━━━━━━━━━━━━\u001b[0m\u001b[37m\u001b[0m \u001b[1m121s\u001b[0m 162ms/step - accuracy: 0.9954 - loss: 0.0272\n"
     ]
    },
    {
     "data": {
      "text/plain": [
       "<keras.src.callbacks.history.History at 0x2cbbc9ce4b0>"
      ]
     },
     "execution_count": 4,
     "metadata": {},
     "output_type": "execute_result"
    }
   ],
   "source": [
    "lstm.fit(X_train, y_train, epochs=3, batch_size=64)"
   ]
  },
  {
   "cell_type": "code",
   "execution_count": 5,
   "metadata": {},
   "outputs": [
    {
     "name": "stdout",
     "output_type": "stream",
     "text": [
      "\u001b[1m372/372\u001b[0m \u001b[32m━━━━━━━━━━━━━━━━━━━━\u001b[0m\u001b[37m\u001b[0m \u001b[1m10s\u001b[0m 20ms/step - accuracy: 0.9891 - loss: 0.0322\n",
      "Perte sur l'ensemble de test: 0.03393689915537834\n",
      "Précision sur l'ensemble de test: 0.9884874224662781\n"
     ]
    }
   ],
   "source": [
    "loss, accuracy = lstm.evaluate(X_test, y_test)\n",
    "print(\"Perte sur l'ensemble de test:\", loss)\n",
    "print(\"Précision sur l'ensemble de test:\", accuracy)"
   ]
  },
  {
   "cell_type": "code",
   "execution_count": 6,
   "metadata": {},
   "outputs": [
    {
     "name": "stdout",
     "output_type": "stream",
     "text": [
      "\u001b[1m372/372\u001b[0m \u001b[32m━━━━━━━━━━━━━━━━━━━━\u001b[0m\u001b[37m\u001b[0m \u001b[1m7s\u001b[0m 18ms/step\n",
      "Accuracy sur l'ensemble de test: 0.9884873949579832\n",
      "F-score sur l'ensemble de test: 0.9885057505384695\n"
     ]
    }
   ],
   "source": [
    "# Prédire les étiquettes sur l'ensemble de test\n",
    "predictions = lstm.predict(X_test)\n",
    "predicted_labels = np.argmax(predictions, axis=1)\n",
    "\n",
    "# Calculer l'accuracy\n",
    "accuracy = accuracy_score(y_test, predicted_labels)\n",
    "\n",
    "# Calculer le F-score\n",
    "f1 = f1_score(y_test, predicted_labels, average='weighted')\n",
    "\n",
    "print(\"Accuracy sur l'ensemble de test:\", accuracy)\n",
    "print(\"F-score sur l'ensemble de test:\", f1)"
   ]
  },
  {
   "cell_type": "markdown",
   "metadata": {},
   "source": [
    "### BLSTM"
   ]
  },
  {
   "cell_type": "code",
   "execution_count": 7,
   "metadata": {},
   "outputs": [
    {
     "name": "stderr",
     "output_type": "stream",
     "text": [
      "c:\\Users\\ASUS\\AppData\\Local\\Programs\\Python\\Python312\\Lib\\site-packages\\keras\\src\\layers\\rnn\\rnn.py:204: UserWarning: Do not pass an `input_shape`/`input_dim` argument to a layer. When using Sequential models, prefer using an `Input(shape)` object as the first layer in the model instead.\n",
      "  super().__init__(**kwargs)\n"
     ]
    }
   ],
   "source": [
    "blstm = Sequential()\n",
    "blstm.add(Bidirectional(LSTM(units=128, input_shape=(1, X_train.shape[2]))))\n",
    "blstm.add(Dropout(0.5))\n",
    "blstm.add(Dense(units=best_num_clusters, activation='softmax'))\n",
    "\n",
    "blstm.compile(optimizer='adam', loss='sparse_categorical_crossentropy', metrics=['accuracy'])"
   ]
  },
  {
   "cell_type": "code",
   "execution_count": 8,
   "metadata": {},
   "outputs": [
    {
     "name": "stdout",
     "output_type": "stream",
     "text": [
      "Epoch 1/3\n",
      "\u001b[1m744/744\u001b[0m \u001b[32m━━━━━━━━━━━━━━━━━━━━\u001b[0m\u001b[37m\u001b[0m \u001b[1m228s\u001b[0m 291ms/step - accuracy: 0.6613 - loss: 1.0899\n",
      "Epoch 2/3\n",
      "\u001b[1m744/744\u001b[0m \u001b[32m━━━━━━━━━━━━━━━━━━━━\u001b[0m\u001b[37m\u001b[0m \u001b[1m256s\u001b[0m 283ms/step - accuracy: 0.9886 - loss: 0.0599\n",
      "Epoch 3/3\n",
      "\u001b[1m744/744\u001b[0m \u001b[32m━━━━━━━━━━━━━━━━━━━━\u001b[0m\u001b[37m\u001b[0m \u001b[1m219s\u001b[0m 224ms/step - accuracy: 0.9974 - loss: 0.0173\n"
     ]
    },
    {
     "data": {
      "text/plain": [
       "<keras.src.callbacks.history.History at 0x2cbca19e7e0>"
      ]
     },
     "execution_count": 8,
     "metadata": {},
     "output_type": "execute_result"
    }
   ],
   "source": [
    "blstm.fit(X_train, y_train, epochs=3, batch_size=64)"
   ]
  },
  {
   "cell_type": "code",
   "execution_count": 9,
   "metadata": {},
   "outputs": [
    {
     "name": "stdout",
     "output_type": "stream",
     "text": [
      "\u001b[1m372/372\u001b[0m \u001b[32m━━━━━━━━━━━━━━━━━━━━\u001b[0m\u001b[37m\u001b[0m \u001b[1m8s\u001b[0m 19ms/step - accuracy: 0.9905 - loss: 0.0290\n",
      "Perte sur l'ensemble de test: 0.03030090406537056\n",
      "\u001b[1m372/372\u001b[0m \u001b[32m━━━━━━━━━━━━━━━━━━━━\u001b[0m\u001b[37m\u001b[0m \u001b[1m8s\u001b[0m 20ms/step\n",
      "Accuracy sur l'ensemble de test: 0.9900840336134453\n",
      "F-score sur l'ensemble de test: 0.9900940555089108\n"
     ]
    }
   ],
   "source": [
    "loss, accuracy = blstm.evaluate(X_test, y_test)\n",
    "print(\"Perte sur l'ensemble de test:\", loss)\n",
    "\n",
    "# Prédire les étiquettes sur l'ensemble de test\n",
    "predictions = blstm.predict(X_test)\n",
    "predicted_labels = np.argmax(predictions, axis=1)\n",
    "\n",
    "# Calculer l'accuracy\n",
    "accuracy = accuracy_score(y_test, predicted_labels)\n",
    "\n",
    "# Calculer le F-score\n",
    "f1 = f1_score(y_test, predicted_labels, average='weighted')\n",
    "\n",
    "print(\"Accuracy sur l'ensemble de test:\", accuracy)\n",
    "print(\"F-score sur l'ensemble de test:\", f1)"
   ]
  }
 ],
 "metadata": {
  "kernelspec": {
   "display_name": "Python 3",
   "language": "python",
   "name": "python3"
  },
  "language_info": {
   "codemirror_mode": {
    "name": "ipython",
    "version": 3
   },
   "file_extension": ".py",
   "mimetype": "text/x-python",
   "name": "python",
   "nbconvert_exporter": "python",
   "pygments_lexer": "ipython3",
   "version": "3.12.2"
  }
 },
 "nbformat": 4,
 "nbformat_minor": 2
}
