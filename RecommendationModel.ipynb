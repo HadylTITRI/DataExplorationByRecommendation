{
  "cells": [
    {
      "cell_type": "code",
      "execution_count": 48,
      "metadata": {
        "colab": {
          "base_uri": "https://localhost:8080/"
        },
        "id": "dIm1eTVwQgLP",
        "outputId": "24aa79f9-8710-4db2-90f7-143486ac6d95",
        "trusted": true
      },
      "outputs": [],
      "source": [
        "#%pip install nltk\n",
        "#%pip install --upgrade pip\n",
        "#nltk.download('wordnet')\n",
        "#nltk.download('punkt')\n",
        "#nltk.download('stopwords')"
      ]
    },
    {
      "cell_type": "code",
      "execution_count": 49,
      "metadata": {},
      "outputs": [],
      "source": [
        "import pickle\n",
        "with open(\"data.pkl\", \"rb\") as f:\n",
        "    questions_matrix, data, best_num_clusters, tfidf_vectorizer = pickle.load(f)"
      ]
    },
    {
      "cell_type": "code",
      "execution_count": 50,
      "metadata": {
        "id": "wQ1LAQVSQgLP",
        "trusted": true
      },
      "outputs": [],
      "source": [
        "import re\n",
        "import nltk\n",
        "from nltk.corpus import stopwords\n",
        "from nltk.tokenize import word_tokenize\n",
        "from nltk.stem import WordNetLemmatizer\n",
        "\n",
        "def preprocess_question(user_question):\n",
        "    # Convertir la question en minuscules\n",
        "    user_question = user_question.lower()\n",
        "\n",
        "    # Supprimer la ponctuation\n",
        "    user_question = re.sub(r'[^\\w\\s]', '', user_question)\n",
        "\n",
        "    # Tokenization\n",
        "    tokens = word_tokenize(user_question)\n",
        "\n",
        "    # Supprimer les mots vides (stop words)\n",
        "    stop_words = set(stopwords.words('english'))\n",
        "    tokens = [word for word in tokens if word not in stop_words]\n",
        "\n",
        "    # Lemmatization\n",
        "    lemmatizer = WordNetLemmatizer()\n",
        "    tokens = [lemmatizer.lemmatize(word) for word in tokens]\n",
        "\n",
        "    # Reconstruire la question à partir des tokens lemmatisés\n",
        "    processed_question = ' '.join(tokens)\n",
        "\n",
        "    return processed_question"
      ]
    },
    {
      "cell_type": "code",
      "execution_count": 51,
      "metadata": {
        "id": "mI6qfRjEQgLQ",
        "trusted": true
      },
      "outputs": [],
      "source": [
        "user_question = preprocess_question(user_question)"
      ]
    },
    {
      "cell_type": "code",
      "execution_count": 52,
      "metadata": {
        "id": "JAb4usGlQgLQ",
        "trusted": true
      },
      "outputs": [],
      "source": [
        "from sklearn.feature_extraction.text import TfidfVectorizer\n",
        "from sklearn.cluster import MiniBatchKMeans\n",
        "from sklearn.metrics.pairwise import cosine_similarity\n",
        "import numpy as np\n",
        "import matplotlib.pyplot as plt\n",
        "from sklearn.preprocessing import LabelEncoder\n",
        "import pandas as pd"
      ]
    },
    {
      "cell_type": "code",
      "execution_count": 53,
      "metadata": {
        "colab": {
          "base_uri": "https://localhost:8080/"
        },
        "id": "AuhE_RbNQgLQ",
        "outputId": "d79f2d4e-f64d-4978-afbf-cc3662bf3d69",
        "trusted": true
      },
      "outputs": [
        {
          "name": "stdout",
          "output_type": "stream",
          "text": [
            "(1, 183233)\n",
            "(33305, 183233)\n"
          ]
        }
      ],
      "source": [
        "user_question_vector = tfidf_vectorizer.transform([user_question])\n",
        "\n",
        "print(user_question_vector.shape)\n",
        "print(questions_matrix.shape)\n",
        "\n",
        "cluster_similarities = cosine_similarity(user_question_vector, questions_matrix)"
      ]
    },
    {
      "cell_type": "code",
      "execution_count": 54,
      "metadata": {
        "colab": {
          "base_uri": "https://localhost:8080/"
        },
        "id": "2reYuj8DQgLQ",
        "outputId": "28e3326a-4830-4145-811d-c3123ec65e9c",
        "trusted": true
      },
      "outputs": [
        {
          "data": {
            "text/plain": [
              "array([0.02143392, 0.02143392, 0.        , ..., 0.        , 0.        ,\n",
              "       0.        ])"
            ]
          },
          "execution_count": 54,
          "metadata": {},
          "output_type": "execute_result"
        }
      ],
      "source": [
        "cluster_similarities.flatten()"
      ]
    },
    {
      "cell_type": "code",
      "execution_count": 55,
      "metadata": {
        "id": "DyaT2VrpQgLQ",
        "trusted": true
      },
      "outputs": [],
      "source": [
        "cosine_similarities = cosine_similarity(user_question_vector, questions_matrix).flatten()\n",
        "similarities_data = pd.DataFrame({\n",
        "    'question_id': data['question_id'],\n",
        "    'similarity': cosine_similarities,\n",
        "    'cluster': data['cluster'],\n",
        "    'answer_id': data['answer_id']\n",
        "})"
      ]
    },
    {
      "cell_type": "code",
      "execution_count": 56,
      "metadata": {
        "colab": {
          "base_uri": "https://localhost:8080/",
          "height": 175
        },
        "id": "293ZMacdQgLR",
        "outputId": "6df48d8a-fecf-43f3-c9f9-cc8b26ba037c",
        "trusted": true
      },
      "outputs": [
        {
          "data": {
            "text/html": [
              "<div>\n",
              "<style scoped>\n",
              "    .dataframe tbody tr th:only-of-type {\n",
              "        vertical-align: middle;\n",
              "    }\n",
              "\n",
              "    .dataframe tbody tr th {\n",
              "        vertical-align: top;\n",
              "    }\n",
              "\n",
              "    .dataframe thead th {\n",
              "        text-align: right;\n",
              "    }\n",
              "</style>\n",
              "<table border=\"1\" class=\"dataframe\">\n",
              "  <thead>\n",
              "    <tr style=\"text-align: right;\">\n",
              "      <th></th>\n",
              "      <th>question_id</th>\n",
              "      <th>similarity</th>\n",
              "      <th>cluster</th>\n",
              "      <th>answer_id</th>\n",
              "    </tr>\n",
              "  </thead>\n",
              "  <tbody>\n",
              "    <tr>\n",
              "      <th>0</th>\n",
              "      <td>64371</td>\n",
              "      <td>0.021434</td>\n",
              "      <td>1</td>\n",
              "      <td>4920277</td>\n",
              "    </tr>\n",
              "    <tr>\n",
              "      <th>1</th>\n",
              "      <td>64371</td>\n",
              "      <td>0.021434</td>\n",
              "      <td>1</td>\n",
              "      <td>4920244</td>\n",
              "    </tr>\n",
              "    <tr>\n",
              "      <th>2</th>\n",
              "      <td>809071</td>\n",
              "      <td>0.000000</td>\n",
              "      <td>1</td>\n",
              "      <td>809077</td>\n",
              "    </tr>\n",
              "    <tr>\n",
              "      <th>3</th>\n",
              "      <td>836041</td>\n",
              "      <td>0.000000</td>\n",
              "      <td>1</td>\n",
              "      <td>4916917</td>\n",
              "    </tr>\n",
              "  </tbody>\n",
              "</table>\n",
              "</div>"
            ],
            "text/plain": [
              "   question_id  similarity  cluster  answer_id\n",
              "0        64371    0.021434        1    4920277\n",
              "1        64371    0.021434        1    4920244\n",
              "2       809071    0.000000        1     809077\n",
              "3       836041    0.000000        1    4916917"
            ]
          },
          "execution_count": 56,
          "metadata": {},
          "output_type": "execute_result"
        }
      ],
      "source": [
        "similarities_data.head(4)"
      ]
    },
    {
      "cell_type": "code",
      "execution_count": 57,
      "metadata": {
        "colab": {
          "base_uri": "https://localhost:8080/"
        },
        "id": "9V2bT-BOQgLR",
        "outputId": "acb28bba-9fe4-4259-fb3f-83a599365a16",
        "trusted": true
      },
      "outputs": [
        {
          "name": "stdout",
          "output_type": "stream",
          "text": [
            "Top 10 similar questions:\n",
            "       question_id  similarity  cluster  answer_id\n",
            "15          556951    0.541188        0    4739794\n",
            "14          556951    0.541188        0    4920349\n",
            "644        2618488    0.512759        5    4395895\n",
            "4382       3673133    0.497260        0    4437101\n",
            "20846      4664007    0.455864        0    4867879\n",
            "16314      4487940    0.452322        0    4487962\n",
            "26671      4850025    0.429719        5    4851132\n",
            "26215      1308992    0.402984        5    4854383\n",
            "4381       2267836    0.394897        0    4429078\n",
            "20053      4870709    0.383802        0    4870816\n"
          ]
        }
      ],
      "source": [
        "print(\"Top 10 similar questions:\")\n",
        "print(similarities_data.sort_values(by='similarity', ascending=False).head(10))"
      ]
    },
    {
      "cell_type": "code",
      "execution_count": 58,
      "metadata": {
        "colab": {
          "base_uri": "https://localhost:8080/"
        },
        "id": "MeVHw6wCQgLR",
        "outputId": "864723f5-9d38-4fe9-d61f-c2062fcd5287",
        "trusted": true
      },
      "outputs": [
        {
          "name": "stdout",
          "output_type": "stream",
          "text": [
            "Predicted cluster for the new question: 0.0\n"
          ]
        }
      ],
      "source": [
        "# Trouver la question la plus similaire\n",
        "most_similar_question = similarities_data.loc[similarities_data['similarity'].idxmax()]\n",
        "\n",
        "# Cluster du question la plus similaire\n",
        "predicted_cluster = most_similar_question['cluster']\n",
        "print(f\"Predicted cluster for the new question: {predicted_cluster}\")"
      ]
    },
    {
      "cell_type": "code",
      "execution_count": 59,
      "metadata": {
        "id": "6L9JrV6GQgLR",
        "trusted": true
      },
      "outputs": [],
      "source": [
        "# Récupération des réponses du cluster prédit\n",
        "cluster_responses = data[data['cluster'] == predicted_cluster]\n",
        "\n",
        "# Calcul de la similarité entre la nouvelle question et les questions du cluster\n",
        "cluster_cosine_similarities = cosine_similarity(user_question_vector, tfidf_vectorizer.transform(cluster_responses['body_x'])).flatten()\n",
        "\n",
        "# Ajout des similarités au DataFrame du cluster\n",
        "cluster_responses = cluster_responses.assign(similarity=cluster_cosine_similarities)"
      ]
    },
    {
      "cell_type": "code",
      "execution_count": 60,
      "metadata": {
        "colab": {
          "base_uri": "https://localhost:8080/"
        },
        "id": "qWDdLgPAQgLS",
        "outputId": "eb67939f-4781-49a2-f338-c19deb9e5450",
        "trusted": true
      },
      "outputs": [
        {
          "name": "stdout",
          "output_type": "stream",
          "text": [
            "Similarities within the predicted cluster:\n",
            "                                                  body_x  similarity\n",
            "14     third order term taylor series expansion know ...    0.541188\n",
            "15     third order term taylor series expansion know ...    0.541188\n",
            "4382   im trying obtain taylor series fsin5 x point a...    0.497260\n",
            "20846  looking syntax wolframalpha would evaluate ser...    0.455864\n",
            "16314  ive tried making taylor series x ive told mult...    0.452322\n",
            "4381   question asks consider polynomial px 4x3 3x us...    0.394897\n",
            "20053  pondering solve limit kind lim_n nk leftdfrac1...    0.383802\n",
            "23515  know expression taylor series log1x however do...    0.351885\n",
            "11161  proof riemann series theorem im reading author...    0.345203\n",
            "5232   first sight answered series divergent teacher ...    0.343663\n"
          ]
        }
      ],
      "source": [
        "print(\"Similarities within the predicted cluster:\")\n",
        "print(cluster_responses[['body_x', 'similarity']].sort_values(by='similarity', ascending=False).head(10))"
      ]
    },
    {
      "cell_type": "code",
      "execution_count": 61,
      "metadata": {
        "colab": {
          "base_uri": "https://localhost:8080/"
        },
        "id": "jXSe2RqLQgLS",
        "outputId": "90136141-7338-4c1f-e226-cddbfc972064",
        "trusted": true
      },
      "outputs": [
        {
          "name": "stdout",
          "output_type": "stream",
          "text": [
            "Les réponses recommandées sont:\n",
            ":\n",
            "1. I have tried a bunch of approach 1 Using gradientvector product beginalign vx varepsilon ampapprox vx leftfracpartialpartial x vxrightvarepsilon frac12leftfracpartialpartial xleftfracpartialpartial x vxrightvarepsilonrightvarepsilon frac16leftfracpartialpartial xleftfracpartialpartial x leftfracpartialpartial x vxrightvarepsilonrightvarepsilonrightvarepsilon dot endalign 2 Using the vec function which take a matrix mathbb Rntimes m to mathbb Rnm beginalign vx varepsilon ampapprox vx leftfracpartialpartial x vxrightvarepsilon frac12 varepsilonT leftfracpartial2 vxpartial x2 rightvarepsilon frac16 varepsilon otimes varepsilonT leftfracpartialpartial xmathrmvecleftfracpartial2 vxpartial x2rightrightvarepsilon dot endalign 3 Using index beginalign vx varepsilon ampapprox vx sum_j fracpartial vxpartial x_j varepsilon_j frac12 sum_jk fracpartial vxpartial x_jpartial x_k varepsilon_j varepsilon_k frac16 sum_jkell fracpartial vxpartial x_jpartial x_kpartial x_ell varepsilon_j varepsilon_k varepsilon_ell endalign\n",
            "*************************************************\n",
            "\n",
            "2. I actually found a way to express it in matrixvector notation Let mathbfxin mathbfRn then the third order term youre looking for is frac13mathbfxTxTmathfrakDx where mathfrakD is a ntimes ntimes n tensor which look like a ntimes 1 vector with ntimes n matrix a it entry and it corresponds to the n3 possible combination of 3textrd order partial derivative Note that for function that satisfy Schwarz theorem the following is true and thus the ntimes n matrix are symmetric partial_ij_kpartial_ji_k and partial_i_jkpartial_i_kj I also used the convention where the product between vector and tensor mathbfxTmathfrakD should yield sum_imathfrakD_ixi mathfrakD_i being every one of those ntimes n matrix mathbfEDIT I actually found an easier notation frac13mathbfxTmathbfmathfraktilde Dxfrac13 beginpmatrix x1 amp dot amp xn endpmatrix beginpmatrix mathbf xcdotnabla f_11 amp dot amp mathbf xcdotnabla f_1n vdots amp ddots amp vdots mathbf xcdotnabla f_n1 amp dot amp mathbf xcdotnabla f_nn endpmatrix beginpmatrix x1 vdots xn endpmatrix where the index on the f mean the partial derivative wrt the ith or the jth coordinate\n",
            "*************************************************\n",
            "\n",
            "3. A general answer to this question is the following result Theorem For ellinmathbbN and xinmathbbR we have beginequationlabelsinepowerserexpaneq bigglfracsin xxbiggrell 1sum_j1infty 1jfracTell2jellbinomell2jell frac2x2j2j endequation where beginequationlabelTnkEFEq31 Tnkfrac1k sum_ell0k1ellbinomkellbigglfrack2ellbiggrn endequation denotes central factorial number of the second kind For detail of the proof for the above result please read the paper below Reference Feng Qi and Peter Taylor Series expansion for power of sinc function and closedform expression for specific partial Bell polynomial Applicable Analysis and Discrete Mathematics 18 2024 no 1 92115 available online at httpsdoiorg102298AADM230902020Q\n",
            "*************************************************\n",
            "\n",
            "4. This is quite a hacky solution but you can nest quotLimitquot Sum and SeriesCoefficient to produce what you want although WA is very particular about the syntax link SumSeriesCoefficientSqrt100x x 0 n xn n 0 2 a xgt20 degree Neither using the symbol Limit nor natural language eg LimitSum xgt20 limit Sum a xgt20 returned any useful result Replace 20 with 2 if an exact result is desired Im including a screenshot of the output for posterity\n",
            "*************************************************\n",
            "\n",
            "5. Every continuous function defined on a closed interval can be uniformly approximated a closely a desired by a polynomial This is guaranteed by the StoneWeierstrass Theorem An example of such converging series of polynomial can be constructed using Bernstein Polynomials Just the fact that such approximation exist wont turn them into Taylor series A Taylor series is defined by the derivative of a function at some point x_0 And the series should converge against the target function in some open interval around the expansion point As x is not smooth at 0 it clear that a Taylor series around 0 can not exist Using Taylor series around some x_0neq0 is pointless because the series will not converge against x for xlt0 even though the series ha radius of convergence of infty and is analytic everywhere it just xmapsto x\n",
            "*************************************************\n",
            "\n",
            "6. A general and alternative answer to this kind of question is the following theorem obtained in Lemma 2 of the paper 1 below For ellinmathbbN and xinmathbbR assume that the value of the function biglfracsin xxbigrell at the point x0 is 1 Then beginequationlabelsinepowerserexpaneq bigglfracsin xxbiggrell sum_j0infty 1jfracRbiglell2jellfracell2bigrbinomell2jell frac2x2j2j endequation where Rbiglell2jellfracell2bigr is given bybeginequationlabelSnkxsatisfyeq Rnkrfrac1ksum_j0k1kjbinomkjrjn endequation for rinmathbbR and nge kge0 The notation Rnkr stand for weighted Stirling number of the second kind which wa first introduced in 2 below References Feng Qi and Peter Taylor Series expansion for power of sinc function and closedform expression for specific partial Bell polynomial Applicable Analysis and Discrete Mathematics 18 2024 no 1 92115 available online at httpsdoiorg102298AADM230902020Q L Carlitz Weighted Stirling number of the first and second kind I Fibonacci Quart 18 1980 no 2 147162\n",
            "*************************************************\n",
            "\n",
            "7. if fin C201we have the conclusion beginalignedlim_nrightarrowinftynleftfrac1nsum_k0nfleftfracknrightint_01fxmathrmdxrightfrac12f1f0endaligned Consider Taylor expansion of f beginalignedfxfleftfracknrightfleftfracknrightleftxfracknrightfracfxi_nk2leftxfracknright2endaligned Let Mmax_xin01fx we can find that beginalignedampnleftfrac1nsum_k0nfleftfracknrightint_01fxmathrmdxsum_k0nint_frack1nfracknfleftfracknrightleftxfracknrightmathrmdxright ampnleftsum_k0nint _frack1nfracknfleftfracknrightmathrmdxsum_k0nint_frack1nfracknfxmathrmdxsum_k0nint_frack1nfracknfleftfracknrightleftxfracknrightmathrmdxright ampnleftsum_k0nint_frack1nfracknleftfleftfracknrightfxfleftfracknrightleftxfracknrightrightmathrmdxright ampfracn2leftsum_k0nint_frack1nfracknfxi_nkleftxfracknright2mathrmdxright ampleqfracMn2leftsum_k0nint_frack1nfracknleftxfracknright2mathrmdxright ampfracMn2leftsum_k0nint0_frac1nx2mathrmdxright ampfracMn2nfrac13n3fracM6nrightarrow 0 endaligned Thuswe have beginaligned amplim_nrightarrowinftynleftfrac1nsum_k0nfleftfracknrightint_01fxmathrmdxrightamplim_nrightarrowinftynsum_k0nint_frack1nfracknfleftfracknrightleftxfracknrightmathrmdx amplim_nrightarrowinftynsum_k0nfleftfracknrightint_frac1n0xmathrmdx ampfrac12lim_nrightarrowinftysum_k0nfleftfracknrightfrac1n ampfrac12int_01fxmathrmdx ampfrac12f1f0 endaligned\n",
            "*************************************************\n",
            "\n",
            "8. For 0 le r lt 1 frac11r sum_k0infty rk Integrate both pat ln1r sum_k1infty fracrkk For 1 lt r le 0 frac11r sum_k0infty 1krk Integrate both pat ln1r sum_k1infty frac1k1krk\n",
            "*************************************************\n",
            "\n",
            "9. Suppose that we have the rearrangement p_1p_2ldotsp_n_1q_1p_n_11p_n_12ldotsp_n_2q_2ldots Let n_00 so the sum of the kth positive block is sum_in_k11n_kp_igt2k Let b_i_i1infty be this rearranged sequence Let s_nsum_i1n b_i be the nth partial sum Note that beginalign sum_i1n_kk b_i amp p_1ldotsp_n_1q_1p_n_11p_n_12ldots p_n_2q_2 ampldots p_n_k11p_n_k12ldotsp_n_kq_kendalign Moreover between n_k1k1 and n_kk1 s_n is strictly increasing because were adding the p_i term Then there is a dip of q_k when we go from nn_kk1 to nn_kk Therefore the minimum value of s_n on n_k1k1n_kk is the minimum of it value at the endpoint min s_nnin n_k1k1n_kkmins_n_k1k1s_n_kk We also note that a noted above s_n_kksum_i1kBigglBiglsum_jn_i11n_ip_jBigrq_iBigrBiggrgeqslant sum_i1k 2iq_i Clearly this go to infty a kto infty because the term 2iq_i grow to infty The summary is a quottinyquot downward step of q_k will take the partial sum down a little but not enough to counteract the huge step upward that are accomplished by the positive block\n",
            "*************************************************\n",
            "\n",
            "10. The trick is called summation by part How do you show int_1inftyfracsin xxdx converges in the sense of improper Riemann integral IbP give you int_1inftyfracsin xxdxfraccos xx_x1inftyint_1inftyfraccos xx2dx the right hand side of which converges For series we have sum_n1infty A_n1A_nB_nA_nB_n_n1inftysum_n1infty A_n1B_n1B_n Choose A_nsum_k1nsin k and B_nfrac1n this is what you need Finally notice that A_nsum_k1nsin k is a bounded sequence because sum_k1n sin k fracsin1sin nsinn121cos 1 Combining with B_n1B_nfrac1nn1On2 this concludes that sum_n1infty A_n1B_n1B_nltinfty\n",
            "*************************************************\n",
            "\n",
            "11. As frac1nlefracsinnnlefrac1n so when n go to infinity 0lefracsinnnle0 so a_n converges\n",
            "*************************************************\n",
            "\n",
            "12. Using a Taylor series expansion with an explicit error term of f assuming it exists around the required point we can write fx_k varepsilon p a fx_kvarepsilon pfx_kvarepsilon pTnabla fx_kvarepsilonint_01pT nabla fx_ktvarepsilon pnabla fx_k mathrmdt Now note we can bound the integral term if we say nabla 2 f leq M then we have leftleftvarepsilonint_01pT nabla fx_ktvarepsilon pnabla fx_k mathrmdt rightright leq frac12varepsilon 2p2M Now we then want varepsilon pT nabla fx_k geq frac12varepsilon 2p2M This is equivalent to having varepsilon leq frac2 nabla fx_kMp Using the triangle inequality we then have that for these epsilon we have the required inequality fx_k varepsilon p lt fx_k a desired\n",
            "*************************************************\n",
            "\n",
            "13. Write out a few term newcommandr2colorredfrac12 newcommandb2colorbluefrac12 sum_k1infty frac12k frac12k1 b 1 2 r 1 3 b 1 4 r 1 5 b 1 6 r 1 7 cdots With this in mind we can clearly rewrite the series a sum_n2infty frac1nn 1sum_n1infty frac1nn 1 ln 2\n",
            "*************************************************\n",
            "\n",
            "14. Since the question asks for interesting trivia I believe the following is appropriate a an answer Digits The digit sequence is A073009 on OEIS This simple Python Script may be used to compute the digit of the sequence from decimal import Decimal getcontext getcontextprec 1003 total Decimal0 for n in range1 10000 term Decimal1 Decimaln n total term printtotal With this Ive obtained the following 1291285997062663540407282590595600541498619368274522317310002445136944538765234455558817041129429708984995070924815430548410487419284864197579163555947913696496974156878020799729177948273009025649230550720966638128467012053685745978703001277894129288253551770222383375319345749259967779648300849549111066964975501051975742911621097021561669532897689242789005809390814788094036799305589535200633716110465094638606808864998606531021853412479159737305271068682465224677033686046987023420196583143133968738817295689355368517985214206662641654380612245699409663560438852399693813044840101532338556989547899226146597068180753342912289091004995136410358472374167966099403742887228090823947240301242337506966587431476835029834700965969301980712205941547423918884954889204314784037389693592832744937301860181757952468190913559650620576842700890732654713723383484718562324804417342338565270511374482208606983811697064478963155480311086868468078070105703423000095477662829927022264266182213029160934485049255679992 Continued Fraction Using the first few of the digit found Wolfram Alpha computes the first term of it continued fraction sequence 1 3 2 3 4 3 1 2 1 1 6 7 2 5 3 1 2 1 8 1 2 4 1 9 3 1 1 18 1 1 29 4 1 5 2 167 1 62 4 2 1 3 3 27 1 9 1 46 1 3 2 2 1 1 3 2 10 73 1 11 1 2 1 1 18 1 4 1 4 6 1 4 4 1 6 1 1 1 2 1 7 8 4 1 3 1 4 28 2 1 6 2 10 3 1 2 2 1 4 1 1 10 1 2 1 26 5 2 3 1 4 2 1 1 1 3 1 4 7 45 2 2 6 7 1 1 5 1 Approximations beginaligned ln3e12912colorred98757dotsampEsim 105 sqrtpifrac14fracphipi2129128599colorred20365dotsampEsim109 frac38picot2leftfrac18303852400594right129128599706266354colorred88534dotsampEsim1018 endaligned\n",
            "*************************************************\n",
            "\n",
            "15. 001 is the usual setting for it make formula like the Taylor series more convenient to write An extra case for n0 is therefore not necessary It also make sense since 00 is an empty product and 1 is the neutral element of multiplication Empty sum are equal to zero empty product are equal to one In rare case 00 is defined a zero but this is not the norm and should be explicitly stated if such a convention is used If not you may assume that the convention is 001\n",
            "*************************************************\n",
            "\n"
          ]
        }
      ],
      "source": [
        "# Récupérer les indices des réponses les plus similaires dans le cluster\n",
        "most_similar_indices_in_cluster = cluster_responses['similarity'].nlargest(15).index\n",
        "\n",
        "# Récupérer les réponses recommandées dans une liste\n",
        "recommended_responses = cluster_responses.loc[most_similar_indices_in_cluster, 'body_y'].tolist()\n",
        "\n",
        "# Supprimer les réponses dupliquées tout en préservant l'ordre\n",
        "seen = set()\n",
        "unique_recommended_responses = []\n",
        "for response in recommended_responses:\n",
        "    if response not in seen:\n",
        "        unique_recommended_responses.append(response)\n",
        "        seen.add(response)\n",
        "\n",
        "# Afficher les réponses recommandées sous forme de liste\n",
        "print(\"Les réponses recommandées sont:\\n:\")\n",
        "for i, response in enumerate(unique_recommended_responses, start=1):\n",
        "    print(f\"{i}. {response}\"+\"\\n*************************************************\\n\")"
      ]
    },
    {
      "cell_type": "code",
      "execution_count": 62,
      "metadata": {
        "id": "ipdvHgMaQgLS",
        "trusted": true
      },
      "outputs": [],
      "source": [
        "# Convertir les similarités en DataFrame pour une meilleure visualisation\n",
        "similarities_df = pd.DataFrame(cluster_similarities.T, index=data.index, columns=['similarity'])\n",
        "\n",
        "# Ajouter les similarités au DataFrame original\n",
        "data = data.join(similarities_df)"
      ]
    },
    {
      "cell_type": "code",
      "execution_count": 63,
      "metadata": {
        "colab": {
          "base_uri": "https://localhost:8080/"
        },
        "id": "-CBVD_wQQgLS",
        "outputId": "bf4c5cce-e88a-4534-ed39-9ad2528b4add",
        "trusted": true
      },
      "outputs": [
        {
          "name": "stdout",
          "output_type": "stream",
          "text": [
            "0\n"
          ]
        }
      ],
      "source": [
        "# Identifier le cluster de la question la plus similaire\n",
        "most_similar_question_idx = data['similarity'].idxmax()\n",
        "predicted_cluster = data.loc[most_similar_question_idx, 'cluster']\n",
        "print(predicted_cluster)"
      ]
    },
    {
      "cell_type": "code",
      "execution_count": 64,
      "metadata": {
        "colab": {
          "base_uri": "https://localhost:8080/"
        },
        "id": "cTaYWbTrQgLT",
        "outputId": "1e2e1edc-af34-48a8-ee40-3dffb9fcd6b2",
        "trusted": true
      },
      "outputs": [
        {
          "name": "stdout",
          "output_type": "stream",
          "text": [
            "Les réponses recommandées sont:\n",
            " 14    I have tried a bunch of approach 1 Using gradi...\n",
            "15    I actually found a way to express it in matrix...\n",
            "Name: body_y, dtype: object\n"
          ]
        }
      ],
      "source": [
        "# Sélectionner les réponses des questions du même cluster avec une similarité > 80%\n",
        "recommended_responses = data[(data['cluster'] == predicted_cluster) & (data['similarity'] >= 0.5)][['answer_id', 'body_y']]\n",
        "recommended_answers = pd.DataFrame(recommended_responses).drop_duplicates()\n",
        "\n",
        "print(\"Les réponses recommandées sont:\\n\",recommended_answers['body_y'].head())"
      ]
    },
    {
      "cell_type": "code",
      "execution_count": 65,
      "metadata": {
        "colab": {
          "base_uri": "https://localhost:8080/",
          "height": 389
        },
        "id": "yBwIO5axQgLT",
        "outputId": "093f9c49-023b-4b70-9074-cd36545ec14e",
        "trusted": true
      },
      "outputs": [
        {
          "data": {
            "text/html": [
              "<div>\n",
              "<style scoped>\n",
              "    .dataframe tbody tr th:only-of-type {\n",
              "        vertical-align: middle;\n",
              "    }\n",
              "\n",
              "    .dataframe tbody tr th {\n",
              "        vertical-align: top;\n",
              "    }\n",
              "\n",
              "    .dataframe thead th {\n",
              "        text-align: right;\n",
              "    }\n",
              "</style>\n",
              "<table border=\"1\" class=\"dataframe\">\n",
              "  <thead>\n",
              "    <tr style=\"text-align: right;\">\n",
              "      <th></th>\n",
              "      <th>_id_x</th>\n",
              "      <th>question_id</th>\n",
              "      <th>body_x</th>\n",
              "      <th>_id_y</th>\n",
              "      <th>answer_id</th>\n",
              "      <th>score_y</th>\n",
              "      <th>body_y</th>\n",
              "      <th>view_count</th>\n",
              "      <th>is_answered</th>\n",
              "      <th>cluster</th>\n",
              "      <th>similarity</th>\n",
              "    </tr>\n",
              "  </thead>\n",
              "  <tbody>\n",
              "    <tr>\n",
              "      <th>0</th>\n",
              "      <td>664ce39a45e5f7b293a87b18</td>\n",
              "      <td>64371</td>\n",
              "      <td>group g p2 element p prime number potentially ...</td>\n",
              "      <td>664ce74b45e5f7b293a926c8</td>\n",
              "      <td>4920277</td>\n",
              "      <td>1</td>\n",
              "      <td>Hopefully this wasnt covered by anyone else Su...</td>\n",
              "      <td>14688</td>\n",
              "      <td>1</td>\n",
              "      <td>1</td>\n",
              "      <td>0.021434</td>\n",
              "    </tr>\n",
              "    <tr>\n",
              "      <th>1</th>\n",
              "      <td>664ce39a45e5f7b293a87b18</td>\n",
              "      <td>64371</td>\n",
              "      <td>group g p2 element p prime number potentially ...</td>\n",
              "      <td>664ce74b45e5f7b293a926d2</td>\n",
              "      <td>4920244</td>\n",
              "      <td>1</td>\n",
              "      <td>Given any group G order p2 we know by Cauchys ...</td>\n",
              "      <td>14688</td>\n",
              "      <td>1</td>\n",
              "      <td>1</td>\n",
              "      <td>0.021434</td>\n",
              "    </tr>\n",
              "    <tr>\n",
              "      <th>2</th>\n",
              "      <td>664ce39a45e5f7b293a87b19</td>\n",
              "      <td>809071</td>\n",
              "      <td>think formula n2 define pn 1 3 5 ldots 2n 1 n2...</td>\n",
              "      <td>664ce74b45e5f7b293a92698</td>\n",
              "      <td>809077</td>\n",
              "      <td>2</td>\n",
              "      <td>The issue here is that pn1 is not the statemen...</td>\n",
              "      <td>39191</td>\n",
              "      <td>1</td>\n",
              "      <td>1</td>\n",
              "      <td>0.000000</td>\n",
              "    </tr>\n",
              "  </tbody>\n",
              "</table>\n",
              "</div>"
            ],
            "text/plain": [
              "                      _id_x  question_id  \\\n",
              "0  664ce39a45e5f7b293a87b18        64371   \n",
              "1  664ce39a45e5f7b293a87b18        64371   \n",
              "2  664ce39a45e5f7b293a87b19       809071   \n",
              "\n",
              "                                              body_x  \\\n",
              "0  group g p2 element p prime number potentially ...   \n",
              "1  group g p2 element p prime number potentially ...   \n",
              "2  think formula n2 define pn 1 3 5 ldots 2n 1 n2...   \n",
              "\n",
              "                      _id_y  answer_id  score_y  \\\n",
              "0  664ce74b45e5f7b293a926c8    4920277        1   \n",
              "1  664ce74b45e5f7b293a926d2    4920244        1   \n",
              "2  664ce74b45e5f7b293a92698     809077        2   \n",
              "\n",
              "                                              body_y  view_count  is_answered  \\\n",
              "0  Hopefully this wasnt covered by anyone else Su...       14688            1   \n",
              "1  Given any group G order p2 we know by Cauchys ...       14688            1   \n",
              "2  The issue here is that pn1 is not the statemen...       39191            1   \n",
              "\n",
              "   cluster  similarity  \n",
              "0        1    0.021434  \n",
              "1        1    0.021434  \n",
              "2        1    0.000000  "
            ]
          },
          "execution_count": 65,
          "metadata": {},
          "output_type": "execute_result"
        }
      ],
      "source": [
        "data.head(3)"
      ]
    },
    {
      "cell_type": "code",
      "execution_count": 66,
      "metadata": {
        "id": "q2GtnUluQgLa",
        "trusted": true
      },
      "outputs": [],
      "source": [
        "import numpy as np\n",
        "import pandas as pd\n",
        "from sklearn.feature_extraction.text import TfidfVectorizer\n",
        "from sklearn.cluster import KMeans\n",
        "from sklearn.metrics.pairwise import cosine_similarity\n",
        "from keras.models import Sequential\n",
        "from keras.layers import Dense\n",
        "from keras.optimizers import Adam"
      ]
    },
    {
      "cell_type": "code",
      "execution_count": 67,
      "metadata": {
        "colab": {
          "base_uri": "https://localhost:8080/"
        },
        "id": "_s0leLBwQgLa",
        "outputId": "4b073918-899d-479d-ff8d-a9d545fa6ce1",
        "trusted": true
      },
      "outputs": [],
      "source": [
        "# Prétraiter les questions\n",
        "tfidf_vectorizer = TfidfVectorizer(max_features=10000)  # Limiter le nombre de caractéristiques\n",
        "tfidf_matrix = tfidf_vectorizer.fit_transform(data['body_x'])\n",
        "\n",
        "# Appliquer le clustering KMeans\n",
        "n_clusters = 7\n",
        "kmeans = KMeans(n_clusters=n_clusters, random_state=42)\n",
        "data['cluster'] = kmeans.fit_predict(tfidf_matrix)"
      ]
    },
    {
      "cell_type": "code",
      "execution_count": 68,
      "metadata": {
        "id": "q7_4Kb_fQgLa",
        "trusted": true
      },
      "outputs": [
        {
          "name": "stderr",
          "output_type": "stream",
          "text": [
            "c:\\Users\\ASUS\\AppData\\Local\\Programs\\Python\\Python312\\Lib\\site-packages\\keras\\src\\layers\\core\\dense.py:87: UserWarning: Do not pass an `input_shape`/`input_dim` argument to a layer. When using Sequential models, prefer using an `Input(shape)` object as the first layer in the model instead.\n",
            "  super().__init__(activity_regularizer=activity_regularizer, **kwargs)\n"
          ]
        }
      ],
      "source": [
        "# Créer et entraîner un modèle Keras\n",
        "input_dim = tfidf_matrix.shape[1]\n",
        "\n",
        "model = Sequential()\n",
        "model.add(Dense(128, input_dim=input_dim, activation='relu'))\n",
        "model.add(Dense(64, activation='relu'))\n",
        "model.add(Dense(best_num_clusters, activation='softmax'))  # n_clusters est le nombre de clusters\n",
        "model.compile(optimizer=Adam(learning_rate=0.001), loss='sparse_categorical_crossentropy', metrics=['accuracy'])\n"
      ]
    },
    {
      "cell_type": "code",
      "execution_count": 69,
      "metadata": {
        "colab": {
          "base_uri": "https://localhost:8080/"
        },
        "id": "5QCuPz7pQgLa",
        "outputId": "8f0db92c-7fc1-41b3-d75f-23b92eed5a67",
        "trusted": true
      },
      "outputs": [
        {
          "name": "stdout",
          "output_type": "stream",
          "text": [
            "Epoch 1/8\n",
            "\u001b[1m1666/1666\u001b[0m \u001b[32m━━━━━━━━━━━━━━━━━━━━\u001b[0m\u001b[37m\u001b[0m \u001b[1m36s\u001b[0m 19ms/step - accuracy: 0.7493 - loss: 0.7279 - val_accuracy: 0.8984 - val_loss: 0.2553\n",
            "Epoch 2/8\n",
            "\u001b[1m1666/1666\u001b[0m \u001b[32m━━━━━━━━━━━━━━━━━━━━\u001b[0m\u001b[37m\u001b[0m \u001b[1m32s\u001b[0m 19ms/step - accuracy: 0.9888 - loss: 0.0408 - val_accuracy: 0.8991 - val_loss: 0.2918\n",
            "Epoch 3/8\n",
            "\u001b[1m1666/1666\u001b[0m \u001b[32m━━━━━━━━━━━━━━━━━━━━\u001b[0m\u001b[37m\u001b[0m \u001b[1m31s\u001b[0m 19ms/step - accuracy: 0.9981 - loss: 0.0106 - val_accuracy: 0.8975 - val_loss: 0.3390\n",
            "Epoch 4/8\n",
            "\u001b[1m1666/1666\u001b[0m \u001b[32m━━━━━━━━━━━━━━━━━━━━\u001b[0m\u001b[37m\u001b[0m \u001b[1m40s\u001b[0m 18ms/step - accuracy: 0.9993 - loss: 0.0034 - val_accuracy: 0.8940 - val_loss: 0.3939\n",
            "Epoch 5/8\n",
            "\u001b[1m1666/1666\u001b[0m \u001b[32m━━━━━━━━━━━━━━━━━━━━\u001b[0m\u001b[37m\u001b[0m \u001b[1m32s\u001b[0m 19ms/step - accuracy: 0.9994 - loss: 0.0022 - val_accuracy: 0.8837 - val_loss: 0.4864\n",
            "Epoch 6/8\n",
            "\u001b[1m1666/1666\u001b[0m \u001b[32m━━━━━━━━━━━━━━━━━━━━\u001b[0m\u001b[37m\u001b[0m \u001b[1m41s\u001b[0m 19ms/step - accuracy: 0.9986 - loss: 0.0048 - val_accuracy: 0.8888 - val_loss: 0.5260\n",
            "Epoch 7/8\n",
            "\u001b[1m1666/1666\u001b[0m \u001b[32m━━━━━━━━━━━━━━━━━━━━\u001b[0m\u001b[37m\u001b[0m \u001b[1m31s\u001b[0m 18ms/step - accuracy: 0.9995 - loss: 0.0024 - val_accuracy: 0.8913 - val_loss: 0.5850\n",
            "Epoch 8/8\n",
            "\u001b[1m1666/1666\u001b[0m \u001b[32m━━━━━━━━━━━━━━━━━━━━\u001b[0m\u001b[37m\u001b[0m \u001b[1m43s\u001b[0m 19ms/step - accuracy: 0.9993 - loss: 0.0018 - val_accuracy: 0.8883 - val_loss: 0.5713\n"
          ]
        }
      ],
      "source": [
        "# Entraîner le modèle\n",
        "X_train = tfidf_matrix.toarray()\n",
        "y_train = data['cluster'].values\n",
        "history = model.fit(X_train, y_train, epochs=8, batch_size=16, validation_split=0.2)"
      ]
    },
    {
      "cell_type": "code",
      "execution_count": 70,
      "metadata": {
        "id": "giCHE89nQgLb",
        "trusted": true
      },
      "outputs": [],
      "source": [
        "# Fonction pour recommander des réponses\n",
        "def recommend_responses(new_question, model, df, tfidf_vectorizer, top_n=15):\n",
        "    # Prétraiter la nouvelle question\n",
        "    new_question_vector = tfidf_vectorizer.transform([new_question])\n",
        "\n",
        "    # Prédire le cluster de la nouvelle question\n",
        "    new_question_vector_array = new_question_vector.toarray()\n",
        "    predicted_cluster = np.argmax(model.predict(new_question_vector_array), axis=1)[0]\n",
        "\n",
        "    # Récupérer les questions et réponses du cluster prédit\n",
        "    cluster_questions = df[df['cluster'] == predicted_cluster]\n",
        "\n",
        "    # Calculer la similarité cosinus entre la nouvelle question et les questions du cluster\n",
        "    cluster_question_vectors = tfidf_vectorizer.transform(cluster_questions['body_x'])\n",
        "    similarities = cosine_similarity(new_question_vector, cluster_question_vectors).flatten()\n",
        "\n",
        "    # Ajouter la similarité au DataFrame des questions du cluster\n",
        "    cluster_questions = cluster_questions.assign(similarity=similarities)\n",
        "\n",
        "    # Récupérer les indices des réponses les plus similaires dans le cluster\n",
        "    most_similar_indices_in_cluster = cluster_questions['similarity'].nlargest(top_n).index\n",
        "\n",
        "    # Récupérer les réponses recommandées dans une liste\n",
        "    recommended_responses = cluster_questions.loc[most_similar_indices_in_cluster, 'body_y'].tolist()\n",
        "\n",
        "    # Supprimer les réponses dupliquées tout en préservant l'ordre\n",
        "    seen = set()\n",
        "    unique_recommended_responses = []\n",
        "    for response in recommended_responses:\n",
        "        if response not in seen:\n",
        "            unique_recommended_responses.append(response)\n",
        "            seen.add(response)\n",
        "\n",
        "    return unique_recommended_responses"
      ]
    },
    {
      "cell_type": "code",
      "execution_count": 71,
      "metadata": {
        "colab": {
          "base_uri": "https://localhost:8080/",
          "height": 474
        },
        "id": "W8PxlHR0YHD_",
        "outputId": "d03e2c03-9c31-4e26-e94e-391473580f90"
      },
      "outputs": [
        {
          "data": {
            "image/png": "[encoded data removed]",
            "text/plain": [
              "<Figure size 640x480 with 1 Axes>"
            ]
          },
          "metadata": {},
          "output_type": "display_data"
        }
      ],
      "source": [
        "# Tracer la courbe de la fonction de perte\n",
        "plt.plot(history.history['loss'], label='Entraînement')\n",
        "plt.plot(history.history['val_loss'], label='Validation')\n",
        "plt.title('Courbe de la fonction de perte')\n",
        "plt.xlabel('Épochs')\n",
        "plt.ylabel('Perte')\n",
        "plt.legend()\n",
        "plt.savefig('loss_plot.png')\n",
        "plt.show()"
      ]
    },
    {
      "cell_type": "code",
      "execution_count": 72,
      "metadata": {},
      "outputs": [
        {
          "name": "stdout",
          "output_type": "stream",
          "text": [
            "\u001b[1m1041/1041\u001b[0m \u001b[32m━━━━━━━━━━━━━━━━━━━━\u001b[0m\u001b[37m\u001b[0m \u001b[1m6s\u001b[0m 5ms/step\n"
          ]
        },
        {
          "data": {
            "image/png": "[encoded data removed]",
            "text/plain": [
              "<Figure size 640x480 with 2 Axes>"
            ]
          },
          "metadata": {},
          "output_type": "display_data"
        }
      ],
      "source": [
        "from sklearn.metrics import confusion_matrix, ConfusionMatrixDisplay\n",
        "\n",
        "y_pred = model.predict(X_train)\n",
        "y_pred_clusters = np.argmax(y_pred, axis=1)\n",
        "\n",
        "# Calculer la matrice de confusion\n",
        "conf_matrix = confusion_matrix(y_train, y_pred_clusters)\n",
        "disp = ConfusionMatrixDisplay(confusion_matrix=conf_matrix)\n",
        "disp.plot(cmap=plt.cm.Blues)\n",
        "\n",
        "# Afficher la matrice de confusion\n",
        "plt.title('Matrice de Confusion')\n",
        "plt.show()"
      ]
    },
    {
      "cell_type": "code",
      "execution_count": 73,
      "metadata": {},
      "outputs": [
        {
          "name": "stdout",
          "output_type": "stream",
          "text": [
            "\u001b[1m1/1\u001b[0m \u001b[32m━━━━━━━━━━━━━━━━━━━━\u001b[0m\u001b[37m\u001b[0m \u001b[1m0s\u001b[0m 50ms/step\n",
            "Recommended responses:\n",
            "1. I have tried a bunch of approach 1 Using gradientvector product beginalign vx varepsilon ampapprox vx leftfracpartialpartial x vxrightvarepsilon frac12leftfracpartialpartial xleftfracpartialpartial x vxrightvarepsilonrightvarepsilon frac16leftfracpartialpartial xleftfracpartialpartial x leftfracpartialpartial x vxrightvarepsilonrightvarepsilonrightvarepsilon dot endalign 2 Using the vec function which take a matrix mathbb Rntimes m to mathbb Rnm beginalign vx varepsilon ampapprox vx leftfracpartialpartial x vxrightvarepsilon frac12 varepsilonT leftfracpartial2 vxpartial x2 rightvarepsilon frac16 varepsilon otimes varepsilonT leftfracpartialpartial xmathrmvecleftfracpartial2 vxpartial x2rightrightvarepsilon dot endalign 3 Using index beginalign vx varepsilon ampapprox vx sum_j fracpartial vxpartial x_j varepsilon_j frac12 sum_jk fracpartial vxpartial x_jpartial x_k varepsilon_j varepsilon_k frac16 sum_jkell fracpartial vxpartial x_jpartial x_kpartial x_ell varepsilon_j varepsilon_k varepsilon_ell endalign\n",
            "2. I actually found a way to express it in matrixvector notation Let mathbfxin mathbfRn then the third order term youre looking for is frac13mathbfxTxTmathfrakDx where mathfrakD is a ntimes ntimes n tensor which look like a ntimes 1 vector with ntimes n matrix a it entry and it corresponds to the n3 possible combination of 3textrd order partial derivative Note that for function that satisfy Schwarz theorem the following is true and thus the ntimes n matrix are symmetric partial_ij_kpartial_ji_k and partial_i_jkpartial_i_kj I also used the convention where the product between vector and tensor mathbfxTmathfrakD should yield sum_imathfrakD_ixi mathfrakD_i being every one of those ntimes n matrix mathbfEDIT I actually found an easier notation frac13mathbfxTmathbfmathfraktilde Dxfrac13 beginpmatrix x1 amp dot amp xn endpmatrix beginpmatrix mathbf xcdotnabla f_11 amp dot amp mathbf xcdotnabla f_1n vdots amp ddots amp vdots mathbf xcdotnabla f_n1 amp dot amp mathbf xcdotnabla f_nn endpmatrix beginpmatrix x1 vdots xn endpmatrix where the index on the f mean the partial derivative wrt the ith or the jth coordinate\n",
            "3. The third order term it can be genralized to any order term of the multivariable Taylor series of fmathbf xmathbf Rntomathbf R around mathbf aab is beginaligned frac13mathbf xmathbf acdotboldsymbolnabla_mathbf a3fmathbf xampoversettextin mathbf R2frac13xapartial_x_mathbf aybpartial_y_mathbf a3fxy amp frac13xa3partial_xxx_mathbf a3xa2ybpartial_xxy_mathbf a amphspace15cm3xayb2partial_xyy_mathbf ayb3partial_yyy_mathbf afxy amp frac13xa3f_xxxab3xa2ybf_xxyab amphspace15cm3xayb2f_xyyabyb3f_yyyab endaligned or in matrix language though in your case it is a 2times 2times 2 tensor I found it could be expressed a example in mathbf R2 frac13xaybbeginpmatrix mathbfxacdotboldsymbolnabla f_xxmathbf a amp mathbfxacdotboldsymbolnabla f_xymathbf a mathbfxacdotboldsymbolnabla f_yxmathbf a amp mathbfxacdotboldsymbolnabla f_xxmathbf a endpmatrix beginpmatrix xa yb endpmatrix Using Schwarz theorem f_xyf_yx you can get to your expression\n",
            "4. Using a Taylor series expansion with an explicit error term of f assuming it exists around the required point we can write fx_k varepsilon p a fx_kvarepsilon pfx_kvarepsilon pTnabla fx_kvarepsilonint_01pT nabla fx_ktvarepsilon pnabla fx_k mathrmdt Now note we can bound the integral term if we say nabla 2 f leq M then we have leftleftvarepsilonint_01pT nabla fx_ktvarepsilon pnabla fx_k mathrmdt rightright leq frac12varepsilon 2p2M Now we then want varepsilon pT nabla fx_k geq frac12varepsilon 2p2M This is equivalent to having varepsilon leq frac2 nabla fx_kMp Using the triangle inequality we then have that for these epsilon we have the required inequality fx_k varepsilon p lt fx_k a desired\n",
            "5. From log1tsuminfty_n1fractnn tlt1 it follows that log1tgeq sumn_k1fractkkqquad 0leq tlt1 On the other hand log1tsumn_k1fractkk suminfty_kn1fractkkleqsumn_k1fractkkfrac1n1fractn11t qquad 0leq tlt1 Thus for 0leq tlt1 sumn_k1fractk1kleqfraclog1ttleqsumn_k1fractk1kfrac1n1fractn1t There error E_n made in the integration by using the nth truncated Taylor polynomial is 0leq E_nleqfrac1n1intx_0fractn1tdtleqfrac1n12frac11xxn1 This bound can also be obtained directly from the expression Li_2xintx_0fraclog1ttdtsuminfty_n1fracxnn2qquad xleq1 Then for 0leq xlt1 sumn_k1fracxkk2leq Li_2xltsumn_k1fracxkk2frac1n121xxn1 With n20 the error estimate E_nlt2162527cdot 109 Using a simple code in double precision yield Li_25 sum20_k15k k2approx 199156109 With n40 the error estimate E_nlt5410438cdot 1016 My simple code yielded Li_25 sum40_k15k k2approx 6661341016 this mean that some numerical error is creeping in This discrepancy start at n38 where the estimated bound to the error E_nlt2391834cdot1015 but in my code Li_25 sum38_k15k k2approx 244249cdot 1015\n",
            "6. I finally got the answer back from my professor and this wa the explanation I wa given The third term in the sequence is 16 The fact that kge2 doesnt change how each term in a sequence is referred to Therefore textFirst term b_2224 textSecond term b_3329 textThird term b_44216 Basically the sequence still ha a quotfirst termquot even though kge2 and it would still have a quotsecond termquot if kge3\n",
            "7. dfracnn12 will give you even odd odd even even dfracnn12n will give you even even odd odd giving u the desired\n",
            "8. If the series is convergent then for every varepsilongt0 there exists ninmathbbN for which sum_igtnmuFcap A_iltvarepsilon Thus for arbitrary varepsilongt0 muleftFcapbigcup_i A_irightmuleftFcapleftbigcup_i A_irightcrightleq muFvarepsilon Letting varepsilon tend to 0 give one the desired result\n",
            "9. For 0 le r lt 1 frac11r sum_k0infty rk Integrate both pat ln1r sum_k1infty fracrkk For 1 lt r le 0 frac11r sum_k0infty 1krk Integrate both pat ln1r sum_k1infty frac1k1krk\n",
            "10. There is a general theorem that say any series can be multiplied by a constant c cdot sum_k0infty a_k sum_k0infty ccdot a_k We have the Taylor series for sin x meaning that we know that for all x sin x sum_k0infty b_k xk Where b_00 b_1 1 b_2 0 b_3 frac13 etc So apply the theorem about multiplying a series by a constant taking c frac1x a_k b_kxk for some x ne 0 frac1xsin x frac1xsum_k0infty b_k xk sum_k0inftyfrac1xb_k xk sum_k0inftyb_kxk1\n",
            "11. Note that beginalign gx xfx ampqquad amp g0 0cdot f0 0 gx xfx fx amp amp g0 0cdot f0 f0 f0 gx xfx 2fx amp amp g0 0cdot f0 2f0 2f0 vdots amp amp vdots gnx xfnx nfn1x amp amp gn0 0cdot fn0 nfn10 nfn10 endalign If you set gx sin x then fx sin x x and the above derivation give the relationship between the Taylor series of g and the Taylor series of f You can doublecheck that this is identical to the result youd find by just dividing the Taylor series of sin x by x I want to emphasize though that we arent meaningfully dividing the derivative of sin x by x The term of the Taylor series already have factor of xn and their coefficient are function of n and the nth derivative at 0 Therefore multiplyingdividing the Taylor series by x actually shift the derivative up or down accounting for the fact only one term survives in the above derivation and it not the nth derivative\n",
            "12. Let fx be a smooth function gx xx_0fx Lets recall the Taylors theorem fx sum_k0n fkx_0fracxx_0kkh_nxx_0xx_0n where lim_xrightarrow x_0h_nxx_0 0 Multiply both side by xx_0 give xx_0fx sum_k0n fkx_0fracxx_0k1kh_nxx_0xx_0n1 thus gx sum_k0n fkx_0fracxx_0k1kh_nxx_0xx_0n1 Assume that the Taylor series of fx at x x_0 converges ie lim_nrightarrow inftyh_nxx_0xx_0n 0 and xx_0 leq 1 then lim_nrightarrow inftyh_nxx_0xx_0n1 0 and gx sum_k0infty fkx_0fracxx_0k1k Therefore the Taylor series expansion of gx at x_0 is equal to the Taylor series expansion of fx at x_0 multiplied by xx_0 for xx_0 leq 1 Let fx sinxx extended to mathbbR and gx sinx then youll have the corresponding result\n",
            "13. I suppose you are thinking about the Taylor expansion about x0 to show that lim_x to infty sinx x 1 In this case it useful make use of the big O notation and write lim_x to infty fracsinxx fracx Ox3x meaning that on the numerator you have x plus something which is of order x3 or higher while at the denominator you have x Now the key realization and the main reason for using the big O notation here is noticing that no matter whats actually in Ox3 your limit is always going to be one Try a few value to convince yourself Suppose you replace Ox3 with x3 the limit is going to be 1 Suppose you replace Ox3 with 1000 x3 still 1 What about 19000 x3 8 x5 x100 Still 1\n",
            "14. The statement that the nth coefficient of g is defined to be the nth coefficient of sum_kleq n varphik is a way of making precise the statement that g sum_n 0infty varphin If you want to show that fg 1 here for any m you can write g sum_n 0m varphin R_m where ordR_m geq m 1 Then fg fsum_n 0m varphin f R_m 1 varphisum_n 0m varphin 1 varphiR_m 1 varphim1 1 varphiR_m Both varphim1 and 1 varphiR_m have zero of order at least m 1 Since this hold for any m one ha fg 1\n",
            "15. 001 is the usual setting for it make formula like the Taylor series more convenient to write An extra case for n0 is therefore not necessary It also make sense since 00 is an empty product and 1 is the neutral element of multiplication Empty sum are equal to zero empty product are equal to one In rare case 00 is defined a zero but this is not the norm and should be explicitly stated if such a convention is used If not you may assume that the convention is 001\n"
          ]
        }
      ],
      "source": [
        "# Obtenir les réponses recommandées\n",
        "recommended_responses = recommend_responses(user_question, model, data, tfidf_vectorizer)\n",
        "\n",
        "# Afficher les réponses recommandées sous forme de liste\n",
        "print(\"Recommended responses:\")\n",
        "for i, response in enumerate(recommended_responses, start=1):\n",
        "    print(f\"{i}. {response}\")"
      ]
    },
    {
      "cell_type": "code",
      "execution_count": 75,
      "metadata": {},
      "outputs": [],
      "source": [
        "recommended_responses = pd.DataFrame(recommended_responses)\n",
        "data.to_csv('data.csv', index=False)\n",
        "\n",
        "recommended_responses.to_csv('recommendations.csv', index=False)"
      ]
    }
  ],
  "metadata": {
    "accelerator": "GPU",
    "colab": {
      "gpuType": "T4",
      "name": "dask_model",
      "provenance": []
    },
    "kaggle": {
      "accelerator": "nvidiaTeslaT4",
      "dataSources": [
        {
          "datasetId": 5038318,
          "sourceId": 8453846,
          "sourceType": "datasetVersion"
        }
      ],
      "dockerImageVersionId": 30700,
      "isGpuEnabled": true,
      "isInternetEnabled": true,
      "language": "python",
      "sourceType": "notebook"
    },
    "kernelspec": {
      "display_name": "Python 3",
      "name": "python3"
    },
    "language_info": {
      "codemirror_mode": {
        "name": "ipython",
        "version": 3
      },
      "file_extension": ".py",
      "mimetype": "text/x-python",
      "name": "python",
      "nbconvert_exporter": "python",
      "pygments_lexer": "ipython3",
      "version": "3.12.2"
    }
  },
  "nbformat": 4,
  "nbformat_minor": 0
}
