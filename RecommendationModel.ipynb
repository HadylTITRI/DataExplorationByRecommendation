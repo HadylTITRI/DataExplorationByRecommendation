{
  "cells": [
    {
      "cell_type": "code",
      "execution_count": 1,
      "metadata": {
        "colab": {
          "base_uri": "https://localhost:8080/"
        },
        "id": "dIm1eTVwQgLP",
        "outputId": "24aa79f9-8710-4db2-90f7-143486ac6d95",
        "trusted": true
      },
      "outputs": [],
      "source": [
        "#%pip install nltk\n",
        "#%pip install --upgrade pip\n",
        "#nltk.download('wordnet')\n",
        "#nltk.download('punkt')\n",
        "#nltk.download('stopwords')"
      ]
    },
    {
      "cell_type": "code",
      "execution_count": 2,
      "metadata": {},
      "outputs": [],
      "source": [
        "import pickle\n",
        "with open(\"data.pkl\", \"rb\") as f:\n",
        "    questions_matrix, data, best_num_clusters, tfidf_vectorizer = pickle.load(f)"
      ]
    },
    {
      "cell_type": "code",
      "execution_count": 3,
      "metadata": {
        "id": "wQ1LAQVSQgLP",
        "trusted": true
      },
      "outputs": [],
      "source": [
        "import re\n",
        "import nltk\n",
        "from nltk.corpus import stopwords\n",
        "from nltk.tokenize import word_tokenize\n",
        "from nltk.stem import WordNetLemmatizer\n",
        "\n",
        "def preprocess_question(user_question):\n",
        "    # Convertir la question en minuscules\n",
        "    user_question = user_question.lower()\n",
        "\n",
        "    # Supprimer la ponctuation\n",
        "    user_question = re.sub(r'[^\\w\\s]', '', user_question)\n",
        "\n",
        "    # Tokenization\n",
        "    tokens = word_tokenize(user_question)\n",
        "\n",
        "    # Supprimer les mots vides (stop words)\n",
        "    stop_words = set(stopwords.words('english'))\n",
        "    tokens = [word for word in tokens if word not in stop_words]\n",
        "\n",
        "    # Lemmatization\n",
        "    lemmatizer = WordNetLemmatizer()\n",
        "    tokens = [lemmatizer.lemmatize(word) for word in tokens]\n",
        "\n",
        "    # Reconstruire la question à partir des tokens lemmatisés\n",
        "    processed_question = ' '.join(tokens)\n",
        "\n",
        "    return processed_question"
      ]
    },
    {
      "cell_type": "code",
      "execution_count": 5,
      "metadata": {
        "id": "mI6qfRjEQgLQ",
        "trusted": true
      },
      "outputs": [
        {
          "data": {
            "text/plain": [
              "''"
            ]
          },
          "execution_count": 5,
          "metadata": {},
          "output_type": "execute_result"
        }
      ],
      "source": [
        "preprocess_question(user_question)"
      ]
    },
    {
      "cell_type": "code",
      "execution_count": 6,
      "metadata": {
        "id": "JAb4usGlQgLQ",
        "trusted": true
      },
      "outputs": [],
      "source": [
        "from sklearn.feature_extraction.text import TfidfVectorizer\n",
        "from sklearn.cluster import MiniBatchKMeans\n",
        "from sklearn.metrics.pairwise import cosine_similarity\n",
        "import numpy as np\n",
        "import matplotlib.pyplot as plt\n",
        "from sklearn.preprocessing import LabelEncoder\n",
        "import pandas as pd"
      ]
    },
    {
      "cell_type": "code",
      "execution_count": 7,
      "metadata": {
        "colab": {
          "base_uri": "https://localhost:8080/"
        },
        "id": "AuhE_RbNQgLQ",
        "outputId": "d79f2d4e-f64d-4978-afbf-cc3662bf3d69",
        "trusted": true
      },
      "outputs": [
        {
          "name": "stdout",
          "output_type": "stream",
          "text": [
            "(1, 186298)\n",
            "(54454, 186298)\n"
          ]
        }
      ],
      "source": [
        "user_question_vector = tfidf_vectorizer.transform([preprocess_question(user_question)])\n",
        "\n",
        "print(user_question_vector.shape)\n",
        "print(questions_matrix.shape)\n",
        "\n",
        "cluster_similarities = cosine_similarity(user_question_vector, questions_matrix)"
      ]
    },
    {
      "cell_type": "code",
      "execution_count": 8,
      "metadata": {
        "colab": {
          "base_uri": "https://localhost:8080/"
        },
        "id": "2reYuj8DQgLQ",
        "outputId": "28e3326a-4830-4145-811d-c3123ec65e9c",
        "trusted": true
      },
      "outputs": [
        {
          "data": {
            "text/plain": [
              "array([0., 0., 0., ..., 0., 0., 0.])"
            ]
          },
          "execution_count": 8,
          "metadata": {},
          "output_type": "execute_result"
        }
      ],
      "source": [
        "cluster_similarities.flatten()"
      ]
    },
    {
      "cell_type": "code",
      "execution_count": 9,
      "metadata": {
        "id": "DyaT2VrpQgLQ",
        "trusted": true
      },
      "outputs": [],
      "source": [
        "cosine_similarities = cosine_similarity(user_question_vector, questions_matrix).flatten()\n",
        "similarities_data = pd.DataFrame({\n",
        "    'question_id': data['question_id'],\n",
        "    'similarity': cosine_similarities,\n",
        "    'cluster': data['cluster'],\n",
        "    'answer_id': data['answer_id']\n",
        "})"
      ]
    },
    {
      "cell_type": "code",
      "execution_count": 10,
      "metadata": {
        "colab": {
          "base_uri": "https://localhost:8080/",
          "height": 175
        },
        "id": "293ZMacdQgLR",
        "outputId": "6df48d8a-fecf-43f3-c9f9-cc8b26ba037c",
        "trusted": true
      },
      "outputs": [
        {
          "data": {
            "text/html": [
              "<div>\n",
              "<style scoped>\n",
              "    .dataframe tbody tr th:only-of-type {\n",
              "        vertical-align: middle;\n",
              "    }\n",
              "\n",
              "    .dataframe tbody tr th {\n",
              "        vertical-align: top;\n",
              "    }\n",
              "\n",
              "    .dataframe thead th {\n",
              "        text-align: right;\n",
              "    }\n",
              "</style>\n",
              "<table border=\"1\" class=\"dataframe\">\n",
              "  <thead>\n",
              "    <tr style=\"text-align: right;\">\n",
              "      <th></th>\n",
              "      <th>question_id</th>\n",
              "      <th>similarity</th>\n",
              "      <th>cluster</th>\n",
              "      <th>answer_id</th>\n",
              "    </tr>\n",
              "  </thead>\n",
              "  <tbody>\n",
              "    <tr>\n",
              "      <th>0</th>\n",
              "      <td>4911362</td>\n",
              "      <td>0.0</td>\n",
              "      <td>3</td>\n",
              "      <td>4911381</td>\n",
              "    </tr>\n",
              "    <tr>\n",
              "      <th>1</th>\n",
              "      <td>4911084</td>\n",
              "      <td>0.0</td>\n",
              "      <td>1</td>\n",
              "      <td>4911116</td>\n",
              "    </tr>\n",
              "    <tr>\n",
              "      <th>2</th>\n",
              "      <td>4903217</td>\n",
              "      <td>0.0</td>\n",
              "      <td>1</td>\n",
              "      <td>4903315</td>\n",
              "    </tr>\n",
              "    <tr>\n",
              "      <th>3</th>\n",
              "      <td>4903217</td>\n",
              "      <td>0.0</td>\n",
              "      <td>1</td>\n",
              "      <td>4904982</td>\n",
              "    </tr>\n",
              "  </tbody>\n",
              "</table>\n",
              "</div>"
            ],
            "text/plain": [
              "   question_id  similarity  cluster  answer_id\n",
              "0      4911362         0.0        3    4911381\n",
              "1      4911084         0.0        1    4911116\n",
              "2      4903217         0.0        1    4903315\n",
              "3      4903217         0.0        1    4904982"
            ]
          },
          "execution_count": 10,
          "metadata": {},
          "output_type": "execute_result"
        }
      ],
      "source": [
        "similarities_data.head(4)"
      ]
    },
    {
      "cell_type": "code",
      "execution_count": 11,
      "metadata": {
        "colab": {
          "base_uri": "https://localhost:8080/"
        },
        "id": "9V2bT-BOQgLR",
        "outputId": "acb28bba-9fe4-4259-fb3f-83a599365a16",
        "trusted": true
      },
      "outputs": [
        {
          "name": "stdout",
          "output_type": "stream",
          "text": [
            "Top 10 similar questions:\n",
            "       question_id  similarity  cluster  answer_id\n",
            "0          4911362         0.0        3    4911381\n",
            "36294      4901933         0.0        2    4907469\n",
            "36296      4906723         0.0        5    4906743\n",
            "36297      4905484         0.0        4    4905692\n",
            "36298      4905484         0.0        4    4907271\n",
            "36299      4901924         0.0        5    4902125\n",
            "36300      4901924         0.0        5    4901943\n",
            "36301      1780129         0.0        5    4907454\n",
            "36302      4906339         0.0        5    4907432\n",
            "36303      4907350         0.0        5    4907376\n"
          ]
        }
      ],
      "source": [
        "print(\"Top 10 similar questions:\")\n",
        "print(similarities_data.sort_values(by='similarity', ascending=False).head(10))"
      ]
    },
    {
      "cell_type": "code",
      "execution_count": 12,
      "metadata": {
        "colab": {
          "base_uri": "https://localhost:8080/"
        },
        "id": "MeVHw6wCQgLR",
        "outputId": "864723f5-9d38-4fe9-d61f-c2062fcd5287",
        "trusted": true
      },
      "outputs": [
        {
          "name": "stdout",
          "output_type": "stream",
          "text": [
            "Predicted cluster for the new question: 3.0\n"
          ]
        }
      ],
      "source": [
        "# Trouver la question la plus similaire\n",
        "most_similar_question = similarities_data.loc[similarities_data['similarity'].idxmax()]\n",
        "\n",
        "# Cluster du question la plus similaire\n",
        "predicted_cluster = most_similar_question['cluster']\n",
        "print(f\"Predicted cluster for the new question: {predicted_cluster}\")"
      ]
    },
    {
      "cell_type": "code",
      "execution_count": 13,
      "metadata": {
        "id": "6L9JrV6GQgLR",
        "trusted": true
      },
      "outputs": [],
      "source": [
        "# Récupération des réponses du cluster prédit\n",
        "cluster_responses = data[data['cluster'] == predicted_cluster]\n",
        "\n",
        "# Calcul de la similarité entre la nouvelle question et les questions du cluster\n",
        "cluster_cosine_similarities = cosine_similarity(user_question_vector, tfidf_vectorizer.transform(cluster_responses['body_x'])).flatten()\n",
        "\n",
        "# Ajout des similarités au DataFrame du cluster\n",
        "cluster_responses = cluster_responses.assign(similarity=cluster_cosine_similarities)"
      ]
    },
    {
      "cell_type": "code",
      "execution_count": 14,
      "metadata": {
        "colab": {
          "base_uri": "https://localhost:8080/"
        },
        "id": "qWDdLgPAQgLS",
        "outputId": "eb67939f-4781-49a2-f338-c19deb9e5450",
        "trusted": true
      },
      "outputs": [
        {
          "name": "stdout",
          "output_type": "stream",
          "text": [
            "Similarities within the predicted cluster:\n",
            "                                                  body_x  similarity\n",
            "0      given pdf x denote fx fx begincases frac194 x2...         0.0\n",
            "35533  attempt consider integral beginalign i_1 amp i...         0.0\n",
            "35261  steele quotthe cauchyschwarz master classquot ...         0.0\n",
            "35426  beginaligned sum_k1n k3 amp 182764cdotsn3 amp ...         0.0\n",
            "35427  beginaligned sum_k1n k3 amp 182764cdotsn3 amp ...         0.0\n",
            "35428  beginaligned sum_k1n k3 amp 182764cdotsn3 amp ...         0.0\n",
            "35438  wikipedia page beta function give simple formu...         0.0\n",
            "35463  matrix beginbmatrix 1 amp 0 amp 1 amp 2 1 amp ...         0.0\n",
            "35464  matrix beginbmatrix 1 amp 0 amp 1 amp 2 1 amp ...         0.0\n",
            "35470  im trying solve exercise book arithmetic ellip...         0.0\n"
          ]
        }
      ],
      "source": [
        "print(\"Similarities within the predicted cluster:\")\n",
        "print(cluster_responses[['body_x', 'similarity']].sort_values(by='similarity', ascending=False).head(10))"
      ]
    },
    {
      "cell_type": "code",
      "execution_count": 15,
      "metadata": {
        "colab": {
          "base_uri": "https://localhost:8080/"
        },
        "id": "jXSe2RqLQgLS",
        "outputId": "90136141-7338-4c1f-e226-cddbfc972064",
        "trusted": true
      },
      "outputs": [
        {
          "name": "stdout",
          "output_type": "stream",
          "text": [
            "Les réponses recommandées sont:\n",
            ":\n",
            "1. The formula for the CDF is Fyint_inftyy fxdx so we apply this formula If ygeq2 then Fyint_12frac194x2dx 1 When yleq1 Fyint_inftyy0dx0 and when 1lt y lt2 we have Fyint_1y frac19left4x2right d xfrac127lefty312 y11right\n",
            "*************************************************\n",
            "\n",
            "2. It is well known that prod_n1inftyfrac1qn1qntheta_4qsum_ninftyinfty1nqn212q2q42q9 Where theta_4q is the fourth Jacobi theta function at z0\n",
            "*************************************************\n",
            "\n",
            "3. The theta4 function can be expressed a an infinite product theta_4leftzqrightprodlimits_n1inftyleft1q2nright left12q2n1cosleft2zrightq4n2right With z0 theta_4left0qrightprodlimits_n1inftyleft1q2nright left12q2n1q4n2right prodlimits_n1inftyleft1q2nright left1q2n1right2 Now note the following identity for infinite product prod_n0infty1qn prod_n1inftyfrac1q2n1qnprod_n1inftyfrac11q2n1 you get theta_4left0qrightprodlimits_n1inftyleft1q2nright left1q2n1right2 prodlimits_n1inftyfrac1qn1qn tag1 Lets prove that this is equal to the series Intuitively you may suspect that prod_n0infty12q2m1cos2zq4m2 prod_n0inftyfrac1q2m12q2m1cos2zq4m21q2n frac12qcos2z2q4cos4z2q9cos6zcdotsprod_n0infty 1q2m But let prove it formally Consider the following infinite product Ftq prod_n1infty1q2n1t1q2n1t1 quad tneq 0 This product ha the following property Fttq Ftq tag qtFq2tq Ftq tag Property is trivial For property begineqnarray Fq2tq ampamp 1q3t1q5tcdots1q1t11qt11q3t1 ampampfrac1q1t11qt 1qt1q3tcdots1qt11q3t1cdots ampampfrac1qtFtq endeqnarray It can be proven that the product Ftq converges uniformly with respect to tq and therefore Ftq is analytic for qlt1 tneq 0 and consequently is expansible in a Laurent series Ftq sum_ninftyinfty a_ntn Property implies a_n a_n Property requieres qtsum_ninftyinfty a_nq2ntn sum_ninftyinfty a_ntn Equating coefficient implies a_n q2n1a_n1 Iterating a_n q2n1q2n3cdots q3qa_0 qn2a_0 Hence Ftq a_0sum_ninftyinfty qn2tn If we put te2iz we get Fe2izq a_0sum_ninftyinfty 1nqn2e2nzi a_0left12sum_n1infty12qn2cos2nzright If we put z0 prod_n1infty1q2n12 a_0left12sum_n1infty12qn2right From 1 we can conclude that a_0 should be a_0 frac1prod_n1infty1q2n to attain the equation boxedprodlimits_n1inftyfrac1qn1qn 12sum_n1infty12qn2 A good reference is Lawden Elliptic Functions and Applications\n",
            "*************************************************\n",
            "\n",
            "4. If BQTAQimplies detBdetQTdetAdetQ ie fracdetBdetAdet2Q must be a square\n",
            "*************************************************\n",
            "\n",
            "5. Using a CAS system it is not hard to evaluate the eigenvalue and eigenvectors Solving the rm M lambda 1 0 problem we get the four eigenvalue lambdabegincases expleftBrightexplefttextAright expleftArightexplefttextBright cosh Acosh BQ cosh Acosh BQ endcases where Q sqrt32sinh Asinh Btfrac12leftcosh2Asinh2Acosh2Bsinh2Bright then forming the linear system rm Mlambda 1 pmatrixabcd 0 produce the four eigenvectors in term of the eigenvalue used rm X_i pmatrix tfrac12 left expmboxAexpBlambda_i right1 tfrac12 left expAexpmboxBlambda_i right1 tfrac12 left expAexpmboxBlambda_i right1 tfrac12 left expmboxAexpBlambda_i right1 You can combine the four eigenvectors into a modal decomposition matrix small rm Xleft beginarraycccc cosh Asinh A1 amp cosh Bsinh A1 amp tfrac12leftmboxQsinh Asinh Bright1 amp tfrac12leftQsinh Asinh Bright1 cosh Asinh B1 amp cosh Bsinh B1 amp tfrac12leftmboxQsinh Asinh Bright1 amp tfrac12leftQsinh Asinh Bright1 cosh Asinh A1 amp cosh Bsinh B1 amp tfrac12leftmboxQsinh Asinh Bright1 amp tfrac12leftQsinh Asinh Bright1 cosh Asinh A1 amp cosh Bsinh A1 amp tfrac12leftmboxQsinh Asinh Bright1 amp tfrac12leftQsinh Asinh Bright1 endarrayright\n",
            "*************************************************\n",
            "\n"
          ]
        }
      ],
      "source": [
        "# Récupérer les indices des réponses les plus similaires dans le cluster\n",
        "most_similar_indices_in_cluster = cluster_responses['similarity'].nlargest(5).index\n",
        "\n",
        "# Récupérer les réponses recommandées dans une liste\n",
        "recommended_responses = cluster_responses.loc[most_similar_indices_in_cluster, 'body_y'].tolist()\n",
        "\n",
        "# Supprimer les réponses dupliquées tout en préservant l'ordre\n",
        "seen = set()\n",
        "unique_recommended_responses = []\n",
        "for response in recommended_responses:\n",
        "    if response not in seen:\n",
        "        unique_recommended_responses.append(response)\n",
        "        seen.add(response)\n",
        "\n",
        "# Afficher les réponses recommandées sous forme de liste\n",
        "print(\"Les réponses recommandées sont:\\n:\")\n",
        "for i, response in enumerate(unique_recommended_responses, start=1):\n",
        "    print(f\"{i}. {response}\"+\"\\n*************************************************\\n\")"
      ]
    },
    {
      "cell_type": "code",
      "execution_count": 16,
      "metadata": {
        "id": "ipdvHgMaQgLS",
        "trusted": true
      },
      "outputs": [],
      "source": [
        "# Convertir les similarités en DataFrame pour une meilleure visualisation\n",
        "similarities_df = pd.DataFrame(cluster_similarities.T, index=data.index, columns=['similarity'])\n",
        "\n",
        "# Ajouter les similarités au DataFrame original\n",
        "data = data.join(similarities_df)"
      ]
    },
    {
      "cell_type": "code",
      "execution_count": 17,
      "metadata": {
        "colab": {
          "base_uri": "https://localhost:8080/"
        },
        "id": "-CBVD_wQQgLS",
        "outputId": "bf4c5cce-e88a-4534-ed39-9ad2528b4add",
        "trusted": true
      },
      "outputs": [
        {
          "name": "stdout",
          "output_type": "stream",
          "text": [
            "3\n"
          ]
        }
      ],
      "source": [
        "# Identifier le cluster de la question la plus similaire\n",
        "most_similar_question_idx = data['similarity'].idxmax()\n",
        "predicted_cluster = data.loc[most_similar_question_idx, 'cluster']\n",
        "print(predicted_cluster)"
      ]
    },
    {
      "cell_type": "code",
      "execution_count": 18,
      "metadata": {
        "colab": {
          "base_uri": "https://localhost:8080/"
        },
        "id": "cTaYWbTrQgLT",
        "outputId": "1e2e1edc-af34-48a8-ee40-3dffb9fcd6b2",
        "trusted": true
      },
      "outputs": [
        {
          "name": "stdout",
          "output_type": "stream",
          "text": [
            "Les réponses recommandées sont:\n",
            " Series([], Name: body_y, dtype: object)\n"
          ]
        }
      ],
      "source": [
        "# Sélectionner les réponses des questions du même cluster avec une similarité > 80%\n",
        "recommended_responses = data[(data['cluster'] == predicted_cluster) & (data['similarity'] >= 0.8)][['answer_id', 'body_y']]\n",
        "recommended_answers = pd.DataFrame(recommended_responses).drop_duplicates()\n",
        "\n",
        "print(\"Les réponses recommandées sont:\\n\",recommended_answers['body_y'].head())"
      ]
    },
    {
      "cell_type": "code",
      "execution_count": 19,
      "metadata": {
        "colab": {
          "base_uri": "https://localhost:8080/",
          "height": 389
        },
        "id": "yBwIO5axQgLT",
        "outputId": "093f9c49-023b-4b70-9074-cd36545ec14e",
        "trusted": true
      },
      "outputs": [
        {
          "data": {
            "text/html": [
              "<div>\n",
              "<style scoped>\n",
              "    .dataframe tbody tr th:only-of-type {\n",
              "        vertical-align: middle;\n",
              "    }\n",
              "\n",
              "    .dataframe tbody tr th {\n",
              "        vertical-align: top;\n",
              "    }\n",
              "\n",
              "    .dataframe thead th {\n",
              "        text-align: right;\n",
              "    }\n",
              "</style>\n",
              "<table border=\"1\" class=\"dataframe\">\n",
              "  <thead>\n",
              "    <tr style=\"text-align: right;\">\n",
              "      <th></th>\n",
              "      <th>_id_x</th>\n",
              "      <th>question_id</th>\n",
              "      <th>body_x</th>\n",
              "      <th>_id_y</th>\n",
              "      <th>answer_id</th>\n",
              "      <th>score_y</th>\n",
              "      <th>body_y</th>\n",
              "      <th>view_count</th>\n",
              "      <th>is_answered</th>\n",
              "      <th>cluster</th>\n",
              "      <th>similarity</th>\n",
              "    </tr>\n",
              "  </thead>\n",
              "  <tbody>\n",
              "    <tr>\n",
              "      <th>0</th>\n",
              "      <td>6637bb13dde473a4efd9d878</td>\n",
              "      <td>4911362</td>\n",
              "      <td>given pdf x denote fx fx begincases frac194 x2...</td>\n",
              "      <td>6637c5a9dde473a4efdbd575</td>\n",
              "      <td>4911381</td>\n",
              "      <td>0</td>\n",
              "      <td>The formula for the CDF is Fyint_inftyy fxdx s...</td>\n",
              "      <td>2</td>\n",
              "      <td>0</td>\n",
              "      <td>3</td>\n",
              "      <td>0.0</td>\n",
              "    </tr>\n",
              "    <tr>\n",
              "      <th>1</th>\n",
              "      <td>6637bb13dde473a4efd9d879</td>\n",
              "      <td>4911084</td>\n",
              "      <td>solve following boundary value problem laplace...</td>\n",
              "      <td>6637c1acdde473a4efdbbd3f</td>\n",
              "      <td>4911116</td>\n",
              "      <td>-1</td>\n",
              "      <td>The solution form you have written is for a di...</td>\n",
              "      <td>27</td>\n",
              "      <td>0</td>\n",
              "      <td>1</td>\n",
              "      <td>0.0</td>\n",
              "    </tr>\n",
              "    <tr>\n",
              "      <th>2</th>\n",
              "      <td>6637bb13dde473a4efd9d87a</td>\n",
              "      <td>4903217</td>\n",
              "      <td>given total derivative df sufficiently smooth ...</td>\n",
              "      <td>6637befedde473a4efda91d5</td>\n",
              "      <td>4903315</td>\n",
              "      <td>1</td>\n",
              "      <td>defR1mathbb R1 defnnabla defBR1big1big defLR1l...</td>\n",
              "      <td>80</td>\n",
              "      <td>1</td>\n",
              "      <td>1</td>\n",
              "      <td>0.0</td>\n",
              "    </tr>\n",
              "  </tbody>\n",
              "</table>\n",
              "</div>"
            ],
            "text/plain": [
              "                      _id_x  question_id  \\\n",
              "0  6637bb13dde473a4efd9d878      4911362   \n",
              "1  6637bb13dde473a4efd9d879      4911084   \n",
              "2  6637bb13dde473a4efd9d87a      4903217   \n",
              "\n",
              "                                              body_x  \\\n",
              "0  given pdf x denote fx fx begincases frac194 x2...   \n",
              "1  solve following boundary value problem laplace...   \n",
              "2  given total derivative df sufficiently smooth ...   \n",
              "\n",
              "                      _id_y  answer_id  score_y  \\\n",
              "0  6637c5a9dde473a4efdbd575    4911381        0   \n",
              "1  6637c1acdde473a4efdbbd3f    4911116       -1   \n",
              "2  6637befedde473a4efda91d5    4903315        1   \n",
              "\n",
              "                                              body_y  view_count  is_answered  \\\n",
              "0  The formula for the CDF is Fyint_inftyy fxdx s...           2            0   \n",
              "1  The solution form you have written is for a di...          27            0   \n",
              "2  defR1mathbb R1 defnnabla defBR1big1big defLR1l...          80            1   \n",
              "\n",
              "   cluster  similarity  \n",
              "0        3         0.0  \n",
              "1        1         0.0  \n",
              "2        1         0.0  "
            ]
          },
          "execution_count": 19,
          "metadata": {},
          "output_type": "execute_result"
        }
      ],
      "source": [
        "data.head(3)"
      ]
    },
    {
      "cell_type": "code",
      "execution_count": 20,
      "metadata": {
        "id": "q2GtnUluQgLa",
        "trusted": true
      },
      "outputs": [],
      "source": [
        "import numpy as np\n",
        "import pandas as pd\n",
        "from sklearn.feature_extraction.text import TfidfVectorizer\n",
        "from sklearn.cluster import KMeans\n",
        "from sklearn.metrics.pairwise import cosine_similarity\n",
        "from keras.models import Sequential\n",
        "from keras.layers import Dense\n",
        "from keras.optimizers import Adam"
      ]
    },
    {
      "cell_type": "code",
      "execution_count": 21,
      "metadata": {
        "colab": {
          "base_uri": "https://localhost:8080/"
        },
        "id": "_s0leLBwQgLa",
        "outputId": "4b073918-899d-479d-ff8d-a9d545fa6ce1",
        "trusted": true
      },
      "outputs": [],
      "source": [
        "# Prétraiter les questions\n",
        "tfidf_vectorizer = TfidfVectorizer(max_features=10000)  # Limiter le nombre de caractéristiques\n",
        "tfidf_matrix = tfidf_vectorizer.fit_transform(data['body_x'])\n",
        "\n",
        "# Appliquer le clustering KMeans\n",
        "n_clusters = 7\n",
        "kmeans = KMeans(n_clusters=n_clusters, random_state=42)\n",
        "data['cluster'] = kmeans.fit_predict(tfidf_matrix)"
      ]
    },
    {
      "cell_type": "code",
      "execution_count": 22,
      "metadata": {
        "id": "q7_4Kb_fQgLa",
        "trusted": true
      },
      "outputs": [
        {
          "name": "stderr",
          "output_type": "stream",
          "text": [
            "c:\\Users\\ASUS\\AppData\\Local\\Programs\\Python\\Python312\\Lib\\site-packages\\keras\\src\\layers\\core\\dense.py:87: UserWarning: Do not pass an `input_shape`/`input_dim` argument to a layer. When using Sequential models, prefer using an `Input(shape)` object as the first layer in the model instead.\n",
            "  super().__init__(activity_regularizer=activity_regularizer, **kwargs)\n"
          ]
        }
      ],
      "source": [
        "# Créer et entraîner un modèle Keras\n",
        "input_dim = tfidf_matrix.shape[1]\n",
        "\n",
        "model = Sequential()\n",
        "model.add(Dense(128, input_dim=input_dim, activation='relu'))\n",
        "model.add(Dense(64, activation='relu'))\n",
        "model.add(Dense(best_num_clusters, activation='softmax'))  # n_clusters est le nombre de clusters\n",
        "model.compile(optimizer=Adam(learning_rate=0.001), loss='sparse_categorical_crossentropy', metrics=['accuracy'])\n"
      ]
    },
    {
      "cell_type": "code",
      "execution_count": 23,
      "metadata": {
        "colab": {
          "base_uri": "https://localhost:8080/"
        },
        "id": "5QCuPz7pQgLa",
        "outputId": "8f0db92c-7fc1-41b3-d75f-23b92eed5a67",
        "trusted": true
      },
      "outputs": [
        {
          "name": "stdout",
          "output_type": "stream",
          "text": [
            "Epoch 1/8\n",
            "\u001b[1m2723/2723\u001b[0m \u001b[32m━━━━━━━━━━━━━━━━━━━━\u001b[0m\u001b[37m\u001b[0m \u001b[1m65s\u001b[0m 21ms/step - accuracy: 0.8228 - loss: 0.5421 - val_accuracy: 0.9869 - val_loss: 0.0428\n",
            "Epoch 2/8\n",
            "\u001b[1m2723/2723\u001b[0m \u001b[32m━━━━━━━━━━━━━━━━━━━━\u001b[0m\u001b[37m\u001b[0m \u001b[1m56s\u001b[0m 20ms/step - accuracy: 0.9916 - loss: 0.0282 - val_accuracy: 0.9904 - val_loss: 0.0251\n",
            "Epoch 3/8\n",
            "\u001b[1m2723/2723\u001b[0m \u001b[32m━━━━━━━━━━━━━━━━━━━━\u001b[0m\u001b[37m\u001b[0m \u001b[1m48s\u001b[0m 17ms/step - accuracy: 0.9973 - loss: 0.0093 - val_accuracy: 0.9979 - val_loss: 0.0068\n",
            "Epoch 4/8\n",
            "\u001b[1m2723/2723\u001b[0m \u001b[32m━━━━━━━━━━━━━━━━━━━━\u001b[0m\u001b[37m\u001b[0m \u001b[1m41s\u001b[0m 15ms/step - accuracy: 0.9982 - loss: 0.0055 - val_accuracy: 0.9983 - val_loss: 0.0039\n",
            "Epoch 5/8\n",
            "\u001b[1m2723/2723\u001b[0m \u001b[32m━━━━━━━━━━━━━━━━━━━━\u001b[0m\u001b[37m\u001b[0m \u001b[1m50s\u001b[0m 18ms/step - accuracy: 0.9991 - loss: 0.0031 - val_accuracy: 0.9995 - val_loss: 0.0022\n",
            "Epoch 6/8\n",
            "\u001b[1m2723/2723\u001b[0m \u001b[32m━━━━━━━━━━━━━━━━━━━━\u001b[0m\u001b[37m\u001b[0m \u001b[1m97s\u001b[0m 24ms/step - accuracy: 0.9998 - loss: 7.9800e-04 - val_accuracy: 0.9986 - val_loss: 0.0035\n",
            "Epoch 7/8\n",
            "\u001b[1m2723/2723\u001b[0m \u001b[32m━━━━━━━━━━━━━━━━━━━━\u001b[0m\u001b[37m\u001b[0m \u001b[1m54s\u001b[0m 20ms/step - accuracy: 0.9992 - loss: 0.0027 - val_accuracy: 0.9983 - val_loss: 0.0067\n",
            "Epoch 8/8\n",
            "\u001b[1m2723/2723\u001b[0m \u001b[32m━━━━━━━━━━━━━━━━━━━━\u001b[0m\u001b[37m\u001b[0m \u001b[1m76s\u001b[0m 18ms/step - accuracy: 0.9984 - loss: 0.0043 - val_accuracy: 0.9998 - val_loss: 5.7718e-04\n"
          ]
        }
      ],
      "source": [
        "# Entraîner le modèle\n",
        "X_train = tfidf_matrix.toarray()\n",
        "y_train = data['cluster'].values\n",
        "history = model.fit(X_train, y_train, epochs=8, batch_size=16, validation_split=0.2)"
      ]
    },
    {
      "cell_type": "code",
      "execution_count": 24,
      "metadata": {
        "id": "giCHE89nQgLb",
        "trusted": true
      },
      "outputs": [],
      "source": [
        "# Fonction pour recommander des réponses\n",
        "def recommend_responses(new_question, model, df, tfidf_vectorizer, top_n=5):\n",
        "    # Prétraiter la nouvelle question\n",
        "    new_question_vector = tfidf_vectorizer.transform([new_question])\n",
        "\n",
        "    # Prédire le cluster de la nouvelle question\n",
        "    new_question_vector_array = new_question_vector.toarray()\n",
        "    predicted_cluster = np.argmax(model.predict(new_question_vector_array), axis=1)[0]\n",
        "\n",
        "    # Récupérer les questions et réponses du cluster prédit\n",
        "    cluster_questions = df[df['cluster'] == predicted_cluster]\n",
        "\n",
        "    # Calculer la similarité cosinus entre la nouvelle question et les questions du cluster\n",
        "    cluster_question_vectors = tfidf_vectorizer.transform(cluster_questions['body_x'])\n",
        "    similarities = cosine_similarity(new_question_vector, cluster_question_vectors).flatten()\n",
        "\n",
        "    # Ajouter la similarité au DataFrame des questions du cluster\n",
        "    cluster_questions = cluster_questions.assign(similarity=similarities)\n",
        "\n",
        "    # Récupérer les indices des réponses les plus similaires dans le cluster\n",
        "    most_similar_indices_in_cluster = cluster_questions['similarity'].nlargest(top_n).index\n",
        "\n",
        "    # Récupérer les réponses recommandées dans une liste\n",
        "    recommended_responses = cluster_questions.loc[most_similar_indices_in_cluster, 'body_y'].tolist()\n",
        "\n",
        "    # Supprimer les réponses dupliquées tout en préservant l'ordre\n",
        "    seen = set()\n",
        "    unique_recommended_responses = []\n",
        "    for response in recommended_responses:\n",
        "        if response not in seen:\n",
        "            unique_recommended_responses.append(response)\n",
        "            seen.add(response)\n",
        "\n",
        "    return unique_recommended_responses"
      ]
    },
    {
      "cell_type": "code",
      "execution_count": 25,
      "metadata": {
        "colab": {
          "base_uri": "https://localhost:8080/",
          "height": 474
        },
        "id": "W8PxlHR0YHD_",
        "outputId": "d03e2c03-9c31-4e26-e94e-391473580f90"
      },
      "outputs": [
        {
          "data": {
            "image/png": "[encoded data removed]",
            "text/plain": [
              "<Figure size 640x480 with 1 Axes>"
            ]
          },
          "metadata": {},
          "output_type": "display_data"
        }
      ],
      "source": [
        "# Tracer la courbe de la fonction de perte\n",
        "plt.plot(history.history['loss'], label='Entraînement')\n",
        "plt.plot(history.history['val_loss'], label='Validation')\n",
        "plt.title('Courbe de la fonction de perte')\n",
        "plt.xlabel('Épochs')\n",
        "plt.ylabel('Perte')\n",
        "plt.legend()\n",
        "plt.show()"
      ]
    },
    {
      "cell_type": "code",
      "execution_count": 26,
      "metadata": {},
      "outputs": [
        {
          "name": "stdout",
          "output_type": "stream",
          "text": [
            "\u001b[1m1702/1702\u001b[0m \u001b[32m━━━━━━━━━━━━━━━━━━━━\u001b[0m\u001b[37m\u001b[0m \u001b[1m9s\u001b[0m 5ms/step\n"
          ]
        },
        {
          "data": {
            "image/png": "[encoded data removed]",
            "text/plain": [
              "<Figure size 640x480 with 2 Axes>"
            ]
          },
          "metadata": {},
          "output_type": "display_data"
        }
      ],
      "source": [
        "from sklearn.metrics import confusion_matrix, ConfusionMatrixDisplay\n",
        "\n",
        "y_pred = model.predict(X_train)\n",
        "y_pred_clusters = np.argmax(y_pred, axis=1)\n",
        "\n",
        "# Calculer la matrice de confusion\n",
        "conf_matrix = confusion_matrix(y_train, y_pred_clusters)\n",
        "disp = ConfusionMatrixDisplay(confusion_matrix=conf_matrix)\n",
        "disp.plot(cmap=plt.cm.Blues)\n",
        "\n",
        "# Afficher la matrice de confusion\n",
        "plt.title('Matrice de Confusion')\n",
        "plt.show()"
      ]
    },
    {
      "cell_type": "code",
      "execution_count": 27,
      "metadata": {},
      "outputs": [
        {
          "name": "stdout",
          "output_type": "stream",
          "text": [
            "\u001b[1m1/1\u001b[0m \u001b[32m━━━━━━━━━━━━━━━━━━━━\u001b[0m\u001b[37m\u001b[0m \u001b[1m0s\u001b[0m 40ms/step\n",
            "Recommended responses:\n",
            "1. defR1mathbb R1 defnnabla defBR1big1big defLR1left1right defop1operatorname1 defcurl1opcurlLR1 defgrad1opgradLR1 defskew1opskewLR1 defcross1oplargePsiLR1 defqquad defqqqquad defqifqiffq defqiqqimpliesq defwwedge defttimes defppartial defderiv12fracp 1p 2 defm1leftbeginarrayc1endarrayright In R3 the sf Cross Product Matrix CPM of a vector b is defined a eqalign cross b doteq m 0ampb_3ampb_2 b_3amp0ampb_1 b_2ampb_1amp0 Now consider the sf CPM of the cross product of two vector eqalign crossbt a amp LRabTbaT doteq 2skewbaT Substituting the b vector with the n operator yield eqalign crossnt a amp 2skewn aT amp 2skewgrad a In higher dimension neither the cross product nor the curl exist but the gradient doe And the skew part of the gradient is the nearest analog of the curl operation\n",
            "2. newcommandddmathrm D newcommandTrmathopmathrmTr Let V be our real ndimensional vector space Something that must be noted is that divergencebeing the trace of the differentialis an intrinsic quantity but curl is not in the following sense given any nondegenerate symmetric bilinear form v w mapsto vcdot w henceforth a metric we can define a basisindependent symbol nabla in such a way that vcdotnabla is the vdirectional derivative and nablacdot fx is always the one and only divergence The curl nablawedge fx however is always dependent on the choice of metric Since you mention curl a being a bivector field I am taking this expression a the definition of curl Taking it on faith for the moment that vcdotnabla fx dd f_xv what we want to do is extract a linear map V to V from the curl somehow As a tensor the curl act on Vwedge V in the following way langlenablawedge fx omegawedgeetarangle omeganablaetafx etanablaomegafx Using the raising operator sharp V to V we can write this a omegasharpcdotnablaetafx etasharpcdotnablaomegafx etadd f_xomegasharp omegadd f_xetasharp In index notation this read eta_ipartial_jfigjkomega_k omega_kpartial_jfkgjieta_i partial_jfigjk partial_jfkgjiomega_keta_i tag Here we see the metric g dependence very explicitly To get a matrix we want to raise one of omega or eta choosing eta we write partial_jfigjk partial_jfkgjig_ilomega_ketal partial_jfigjkg_il partial_jfkdeltaj_lomega_ketal gjkpartial_jfig_il partial_lfkomega_ketal The first term is exactly the metric adjoint overlinedd f_x of the differential defined for any T V to V by vcdot Tw overline Tvcdot w for all v w in V When V mathbb Rn and the metric is the standard inner product the adjoint is precisely the transpose of T when expressed in the standard basis So we have that the following map V to V is equivalent to the curl of f at x overlinedd f_x dd f_x In this sense the curl is the quotantisymmetric partquot of dd f_x Returning to the index notation expression let forcibly raise omega a well gjkpartial_jfig_il partial_lfkomega_ketal gjkpartial_jfig_il partial_lfkg_kmomegametal deltaj_mpartial_jfig_il partial_lfkg_kmomegametal partial_mfig_il partial_lfkg_kmomegametal But now we can absorb the metric into f We get partial_mf_l partial_lf_momegametal This is a new operation which take in a not necessarily linear function f V to Vin other word a oneformand output a twoform We can realize the parenthized expression a dd f_x dd f_x where by we mean the dual of a linear transformation because dd f_x V to V it dual is also V to V and the above expression make sense This is the exterior derivative What exactly is nabla and how can we see the metric independence of the curl divergence How can we see more clearly the relationship between the curl and the exterior derivative Let L Vtimes V to W be linear in the first argument We define a symbol Delta which is analogous to nabla but covector like instead of vector like we will write it argument on the left instead of the right so that vDelta is a scalarlike differential operator defined by vDelta fx dd f_xv for all v in V We want to define LDelta x with Delta differentiating the xdependence To this end let v in V and omegain V We consider the following manipulation reasonable LomegavDelta x vDelta Lomega x ddLomega _xv Contracting omega and v which we write a Tr_omegav we define LDelta x Tr_omegavddLomega _xv Call this the derivative of L We already know of two derivative Let f V to V be any function and define Lomega x omegafx Then it derivative is the divergence of f which we write a fdot xdotDelta We use overdots to make it clear that Delta is differentiating x Let Psi be a differential form ie a function V to mathopbigwedge V and let Lomega x omegawedgePsix Then the derivative is the exterior derivative which we write a DeltawedgePsix Lets write out the last one DeltawedgePsix Tr_omegavddomegawedgePsi _xv Tr_omegavomegawedgeddPsi_xv Now using index notation with a basis e_i with dual ei DeltawedgePsix eiwedgepartial_iPsi which is the exterior derivative Now given a metric we have the musical isomorphism sharp V cong V and we simply define nabla Deltasharp Now it clear why the divergence of f V to V is metricinvariant nablacdot fx Deltasharpcdot fx fdot xdotDelta In a sense the metricity of nabla and the metricity of cdot quotcancel outquot We also see why the curl is metric dependent nablawedge fx Deltasharpwedge fx and the relationship with the exterior derivative is readily apparent Finally we easily derive that vcdotnabla fx vcdotDeltasharp fx vDelta fx dd f_xv\n",
            "3. For convenience purpose Ill express it all in mathbf R3 I couldnt get to the usual expression nablatimes mathbf Fleftpartial_yF_zpartial_zF_yrightmathbfhat xleftpartial_zF_xpartial_xF_zrightmathbfhat yleftpartial_x F_ypartial_y F_xrightmathbfhat z but your jacobian or total derivative is related to the curl like this text Dftext Dtop f beginpmatrix 0 amp nablatimes mathbf F_z amp nablatimes mathbf F_y nablatimes mathbf F_z amp 0 amp nablatimes mathbf F_x nablatimes mathbf F_y amp nablatimes mathbf F_x amp 0 endpmatrix Maybe multiplying by some specific matrix or vector youll get the full expression I couldnt find one though\n",
            "4. There are some flaw in your attempt I shall explain in detail for one case underlinemathttDie rolliseven For the case where the die roll is even Pr frac12 there is a probability of frac37 that we add a white ball to box 2 and a probability of frac47 that we add a red ball So Pred ball drawn from box 2 frac12leftfrac37frac12 frac47frac22right frac1128 underlinemathttDieroll is odd You need to proceed similarly for the case when the die roll is odd This will be a bit more complex a you would be drawing and transferring two ball from box 1 You can now try with the hint given for even roll underlinemathttAdd to get answer Finally add the two figure obtained to get the answer\n",
            "5. Youre close but take the case when you roll an even number Indeed this happens frac12 the time You then draw a ball from box A frac37 of the time the ball is white and frac47 of the time it is red Therefore the probability that you roll an even and draw a white from A and and draw a red from B is frac12 cdot frac37 cdot frac12 frac328\n"
          ]
        }
      ],
      "source": [
        "# Obtenir les réponses recommandées\n",
        "recommended_responses = recommend_responses(preprocess_question(user_question), model, data, tfidf_vectorizer)\n",
        "\n",
        "# Afficher les réponses recommandées sous forme de liste\n",
        "print(\"Recommended responses:\")\n",
        "for i, response in enumerate(recommended_responses, start=1):\n",
        "    print(f\"{i}. {response}\")"
      ]
    }
  ],
  "metadata": {
    "accelerator": "GPU",
    "colab": {
      "gpuType": "T4",
      "name": "dask_model",
      "provenance": []
    },
    "kaggle": {
      "accelerator": "nvidiaTeslaT4",
      "dataSources": [
        {
          "datasetId": 5038318,
          "sourceId": 8453846,
          "sourceType": "datasetVersion"
        }
      ],
      "dockerImageVersionId": 30700,
      "isGpuEnabled": true,
      "isInternetEnabled": true,
      "language": "python",
      "sourceType": "notebook"
    },
    "kernelspec": {
      "display_name": "Python 3",
      "name": "python3"
    },
    "language_info": {
      "codemirror_mode": {
        "name": "ipython",
        "version": 3
      },
      "file_extension": ".py",
      "mimetype": "text/x-python",
      "name": "python",
      "nbconvert_exporter": "python",
      "pygments_lexer": "ipython3",
      "version": "3.12.2"
    }
  },
  "nbformat": 4,
  "nbformat_minor": 0
}
