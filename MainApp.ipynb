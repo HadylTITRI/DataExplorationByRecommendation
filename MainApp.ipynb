{
 "cells": [
  {
   "cell_type": "code",
   "execution_count": 1,
   "metadata": {},
   "outputs": [],
   "source": [
    "#%pip install voila\n",
    "#%pip install papermill"
   ]
  },
  {
   "cell_type": "code",
   "execution_count": 2,
   "metadata": {},
   "outputs": [],
   "source": [
    "import ipywidgets as widgets\n",
    "from IPython.display import display, clear_output, HTML\n",
    "import nbformat\n",
    "from nbconvert.preprocessors import ExecutePreprocessor\n",
    "from get_stackexchange_sites import stackexchange_sites\n",
    "from notebooks import *\n",
    "\n",
    "# Widgets\n",
    "dropdown_sites = widgets.Dropdown(\n",
    "    options=stackexchange_sites,\n",
    "    value=stackexchange_sites[0],\n",
    "    description='StackExchange Site:',\n",
    "    disabled=False,\n",
    "    style={'description_width': 'initial'}\n",
    ")\n",
    "\n",
    "question_input = widgets.Textarea(\n",
    "    value='',\n",
    "    placeholder='Posez votre question ici....',\n",
    "    description='Question:',\n",
    "    disabled=False,\n",
    "    layout=widgets.Layout(width='90%', height='80px')\n",
    ")\n",
    "\n",
    "recommended_answers = widgets.Output()\n",
    "\n",
    "train_button = widgets.Button(\n",
    "    description='Entraîner le modèle',\n",
    "    button_style='success',\n",
    "    layout=widgets.Layout(width='90%')\n",
    ")\n",
    "\n",
    "results_output = widgets.Output()"
   ]
  },
  {
   "cell_type": "code",
   "execution_count": 3,
   "metadata": {},
   "outputs": [],
   "source": [
    "\n",
    "# Functions to execute notebooks\n",
    "def run_notebook(path, params):\n",
    "    with open(path, encoding='utf-8') as f: \n",
    "        nb = nbformat.read(f, as_version=4)\n",
    "        ep = ExecutePreprocessor(timeout=600, kernel_name='python3')\n",
    "        nb.cells.insert(0, nbformat.v4.new_code_cell(source=params))\n",
    "        ep.preprocess(nb, {'metadata': {'path': '.'}})\n",
    "    return nb\n",
    "\n",
    "# Sequential execution handlers\n",
    "def collect_data(site):\n",
    "    params = f\"site = '{dropdown_sites.value}'\"\n",
    "    run_notebook('APIdataExtraction.ipynb', params)\n",
    "    preprocess_data()\n",
    "\n",
    "def preprocess_data():\n",
    "    run_notebook('DataPreprocessing.ipynb', '')\n",
    "    cluster_data()\n",
    "\n",
    "def cluster_data():\n",
    "    run_notebook('Clustering.ipynb', '')\n",
    "\n",
    "def train_model(change):\n",
    "    run_notebook('RecommendationModel.ipynb', '')\n",
    "    with results_output:\n",
    "        clear_output()\n",
    "        display(HTML(\"<h3>Modèle entraîné avec succès!</h3>\"))\n",
    "\n",
    "def recommend_answers(change):\n",
    "    user_question = question_input.value\n",
    "    params = f\"user_question = '''{user_question}'''\"\n",
    "    run_notebook('recommendation.ipynb', params)\n",
    "    with recommended_answers:\n",
    "        clear_output()\n",
    "        display(HTML(\"<h3>Réponses recommandées :</h3>\"))\n",
    "        # Assume the last cell of recommendation.ipynb writes the recommended answers to a variable `recommended`\n",
    "        # You can access it here and display it\n",
    "        display(recommended)\n"
   ]
  },
  {
   "cell_type": "code",
   "execution_count": 4,
   "metadata": {},
   "outputs": [],
   "source": [
    "\n",
    "# Bind functions to events\n",
    "dropdown_sites.observe(collect_data, names='value')\n",
    "train_button.on_click(train_model)\n",
    "question_input.observe(recommend_answers, names='value')\n",
    "\n",
    "# Layout\n",
    "site_section = widgets.VBox([widgets.HTML(\"<h2>Sélectionnez le site</h2>\"), dropdown_sites], layout=widgets.Layout(padding='20px'))\n",
    "data_section = widgets.VBox([widgets.HTML(\"<h2>Données</h2>\"), recommended_answers], layout=widgets.Layout(padding='20px'))\n",
    "question_section = widgets.VBox([widgets.HTML(\"<h2>Posez votre question</h2>\"), question_input], layout=widgets.Layout(padding='20px'))\n",
    "train_section = widgets.VBox([widgets.HTML(\"<h2>Entraînement du modèle</h2>\"), train_button, results_output], layout=widgets.Layout(padding='20px'))\n"
   ]
  },
  {
   "cell_type": "code",
   "execution_count": 7,
   "metadata": {},
   "outputs": [
    {
     "data": {
      "text/html": [
       "<style> .widget-hbox { justify-content: space-around; } .widget-vbox { align-items: center; } .widget-button { background-color: #28a745; color: white; } </style>"
      ],
      "text/plain": [
       "<IPython.core.display.HTML object>"
      ]
     },
     "metadata": {},
     "output_type": "display_data"
    },
    {
     "data": {
      "application/vnd.jupyter.widget-view+json": {
       "model_id": "fa80dc6043854920b08e215904f5087d",
       "version_major": 2,
       "version_minor": 0
      },
      "text/plain": [
       "HBox(children=(VBox(children=(VBox(children=(HTML(value='<h2>Sélectionnez le site</h2>'), Dropdown(description…"
      ]
     },
     "metadata": {},
     "output_type": "display_data"
    }
   ],
   "source": [
    "left_panel = widgets.VBox([site_section, data_section])\n",
    "center_panel = question_section\n",
    "right_panel = train_section\n",
    "\n",
    "dashboard = widgets.HBox([left_panel, center_panel, right_panel], layout=widgets.Layout(width='100%', display='flex', justify_content='space-around'))\n",
    "\n",
    "display(HTML(\"<style> .widget-hbox { justify-content: space-around; } .widget-vbox { align-items: center; } .widget-button { background-color: #28a745; color: white; } </style>\"))\n",
    "display(dashboard)\n",
    "\n",
    "collect_data(site=dropdown_sites.value)"
   ]
  }
 ],
 "metadata": {
  "kernelspec": {
   "display_name": "Python 3",
   "language": "python",
   "name": "python3"
  },
  "language_info": {
   "codemirror_mode": {
    "name": "ipython",
    "version": 3
   },
   "file_extension": ".py",
   "mimetype": "text/x-python",
   "name": "python",
   "nbconvert_exporter": "python",
   "pygments_lexer": "ipython3",
   "version": "3.12.2"
  }
 },
 "nbformat": 4,
 "nbformat_minor": 2
}
