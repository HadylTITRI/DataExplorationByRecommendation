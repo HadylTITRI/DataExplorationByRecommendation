{
 "cells": [
  {
   "cell_type": "markdown",
   "metadata": {
    "collapsed": false,
    "pycharm": {
     "name": "#%% md\n"
    }
   },
   "source": [
    "# <I>Ingestion des Données de stackExchange(site : mathematics)</I>\n",
    "Un processus ELT (Extract , Load , Transform) basé sur la collecte des questions, réponses et postes par l'API de stackExchage en format JSON files, ensuite le chargement de ces derniers dans des collections MongoDB pour les prétraitées par la suite"
   ]
  },
  {
   "cell_type": "code",
   "execution_count": 3,
   "metadata": {
    "pycharm": {
     "name": "#%%\n"
    }
   },
   "outputs": [],
   "source": [
    "import pymongo as mongo\n",
    "import requests\n",
    "\n",
    "client = mongo.MongoClient(\"mongodb://localhost:27017/\")\n",
    "db = client[\"admin\"]\n",
    "\n",
    "collection_questions = db[\"questions\"]\n",
    "collection_answers = db[\"answers\"]\n",
    "\n",
    "#Vider les collections\n",
    "collection_questions.delete_many({})\n",
    "collection_answers.delete_many({})\n",
    "\n",
    "def questionsCollection(site):\n",
    "    API_KEY = 'B22SvN1gxcS8gExJnkubuA(('\n",
    "    \n",
    "    params = {\n",
    "    'key': API_KEY,\n",
    "    'site': site,\n",
    "    'pagesize': 100,\n",
    "    'page': 1,\n",
    "    'filter': '!*Mg4PjfgUgKv4Rnq',\n",
    "    'sort' : 'activity'\n",
    "    }\n",
    "    \n",
    "    questions_url = 'https://api.stackexchange.com/2.3/questions'\n",
    "    questions_data = []\n",
    "    total_pages = float('inf')\n",
    "    total_questions = 0\n",
    "    while True:\n",
    "        response = requests.get(questions_url, params=params)\n",
    "        data = response.json()\n",
    "\n",
    "        if response.status_code == 200:\n",
    "            if 'items' in data:\n",
    "                questions_data.extend(data['items'])\n",
    "                total_questions += len(data['items'])\n",
    "                if 'has_more' in data and data['has_more']:\n",
    "                    params['page'] += 1\n",
    "                else:\n",
    "                    break\n",
    "            else:\n",
    "                print(\"Aucune question trouvée.\")\n",
    "                break\n",
    "        else:\n",
    "            print(f\"Une erreur s'est produite: {response.status_code}\")\n",
    "            break\n",
    "        \n",
    "    for question in questions_data:\n",
    "        collection_questions.insert_one(question)\n",
    "    print(f\"Extraction terminée. {total_questions} questions ont été récupérées.\")\n",
    "    \n",
    "questionsCollection(site)"
   ]
  },
  {
   "cell_type": "code",
   "execution_count": null,
   "metadata": {},
   "outputs": [],
   "source": [
    "def questionsCollection(site):\n",
    "    API_KEY = 'B22SvN1gxcS8gExJnkubuA(('\n",
    "    \n",
    "    params = {\n",
    "    'key': API_KEY,\n",
    "    'site': site,\n",
    "    'pagesize': 100,\n",
    "    'page': 700,\n",
    "    'filter': '!*Mg4PjfgUgKv4Rnq',\n",
    "    'sort' : 'activity'\n",
    "    }\n",
    "    \n",
    "    questions_url = 'https://api.stackexchange.com/2.3/questions'\n",
    "    questions_data = []\n",
    "    total_pages = float('inf')\n",
    "    total_questions = 0\n",
    "    while True:\n",
    "        response = requests.get(questions_url, params=params)\n",
    "        data = response.json()\n",
    "\n",
    "        if response.status_code == 200:\n",
    "            if 'items' in data:\n",
    "                questions_data.extend(data['items'])\n",
    "                total_questions += len(data['items'])\n",
    "                if 'has_more' in data and data['has_more']:\n",
    "                    params['page'] += 1\n",
    "                else:\n",
    "                    break\n",
    "            else:\n",
    "                print(\"Aucune question trouvée.\")\n",
    "                break\n",
    "        else:\n",
    "            print(f\"Une erreur s'est produite: {response.status_code}\")\n",
    "            break\n",
    "        \n",
    "    for question in questions_data:\n",
    "        collection_questions.insert_one(question)\n",
    "    print(f\"Extraction terminée. {total_questions} questions ont été récupérées.\")\n",
    "questionsCollection(site)"
   ]
  },
  {
   "cell_type": "code",
   "execution_count": 14,
   "metadata": {
    "pycharm": {
     "name": "#%%\n"
    }
   },
   "outputs": [
    {
     "name": "stdout",
     "output_type": "stream",
     "text": [
      "Une erreur s'est produite: 400\n",
      "Extraction terminée. 0 réponses ont été récupérées.\n"
     ]
    }
   ],
   "source": [
    "def answersCollection(site):\n",
    "    API_KEY = 'B22SvN1gxcS8gExJnkubuA(('\n",
    "    params = {\n",
    "        'key': API_KEY,\n",
    "        'site': site,\n",
    "        'pagesize': 100,\n",
    "        'page': 1,\n",
    "        'filter': '!6WPIomp1ageEa',\n",
    "        'sort' : 'activity'\n",
    "        }\n",
    "\n",
    "    answers_url = 'https://api.stackexchange.com/2.3/answers'\n",
    "    answers_data = []\n",
    "    total_pages = float('inf')\n",
    "\n",
    "    total_answers = 0\n",
    "    while True:\n",
    "        response = requests.get(answers_url, params=params)\n",
    "        data = response.json()\n",
    "        if response.status_code == 200:\n",
    "            if 'items' in data:\n",
    "                answers_data.extend(data['items'])\n",
    "                total_answers += len(data['items'])\n",
    "                if 'has_more' in data and data['has_more']:\n",
    "                    params['page'] += 1\n",
    "                else:\n",
    "                    break\n",
    "            else:\n",
    "                print(\"Aucune réponse trouvée.\")\n",
    "                break\n",
    "        else:\n",
    "            print(f\"Une erreur s'est produite: {response.status_code}\")\n",
    "            break\n",
    "    \n",
    "    for answer in answers_data:\n",
    "        collection_answers.insert_one(answer)\n",
    "\n",
    "    print(f\"Extraction terminée. {total_answers} réponses ont été récupérées.\")\n",
    "answersCollection(site)"
   ]
  },
  {
   "cell_type": "code",
   "execution_count": null,
   "metadata": {},
   "outputs": [
    {
     "name": "stdout",
     "output_type": "stream",
     "text": [
      "Une erreur s'est produite: 400\n",
      "Extraction terminée. 0 réponses ont été récupérées.\n"
     ]
    }
   ],
   "source": [
    "def answersCollection(site):\n",
    "    API_KEY = 'B22SvN1gxcS8gExJnkubuA(('\n",
    "    params = {\n",
    "        'key': API_KEY,\n",
    "        'site': site,\n",
    "        'pagesize': 100,\n",
    "        'page': 700,\n",
    "        'filter': '!6WPIomp1ageEa',\n",
    "        'sort' : 'activity'\n",
    "        }\n",
    "\n",
    "    answers_url = 'https://api.stackexchange.com/2.3/answers'\n",
    "    answers_data = []\n",
    "    total_pages = float('inf')\n",
    "\n",
    "    total_answers = 0\n",
    "    while True:\n",
    "        response = requests.get(answers_url, params=params)\n",
    "        data = response.json()\n",
    "        if response.status_code == 200:\n",
    "            if 'items' in data:\n",
    "                answers_data.extend(data['items'])\n",
    "                total_answers += len(data['items'])\n",
    "                if 'has_more' in data and data['has_more']:\n",
    "                    params['page'] += 1\n",
    "                else:\n",
    "                    break\n",
    "            else:\n",
    "                print(\"Aucune réponse trouvée.\")\n",
    "                break\n",
    "        else:\n",
    "            print(f\"Une erreur s'est produite: {response.status_code}\")\n",
    "            break\n",
    "    \n",
    "    for answer in answers_data:\n",
    "        collection_answers.insert_one(answer)\n",
    "\n",
    "    print(f\"Extraction terminée. {total_answers} réponses ont été récupérées.\")\n",
    "answersCollection(site)"
   ]
  }
 ],
 "metadata": {
  "kernelspec": {
   "display_name": "Python 3",
   "language": "python",
   "name": "python3"
  },
  "language_info": {
   "codemirror_mode": {
    "name": "ipython",
    "version": 3
   },
   "file_extension": ".py",
   "mimetype": "text/x-python",
   "name": "python",
   "nbconvert_exporter": "python",
   "pygments_lexer": "ipython3",
   "version": "3.12.2"
  }
 },
 "nbformat": 4,
 "nbformat_minor": 2
}
